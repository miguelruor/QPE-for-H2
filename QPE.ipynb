{
  "cells": [
    {
      "cell_type": "code",
      "execution_count": 14,
      "metadata": {
        "id": "jI4zPm-_Qq5a"
      },
      "outputs": [],
      "source": [
        "from typing import Callable, Optional\n",
        "import random\n",
        "import pickle\n",
        "import os\n",
        "import pennylane as qml\n",
        "import numpy as np\n",
        "import matplotlib.pyplot as plt\n",
        "import pandas as pd\n",
        "from tqdm import tqdm"
      ]
    },
    {
      "cell_type": "markdown",
      "metadata": {
        "id": "z5VC3-39Qq5b"
      },
      "source": [
        "# QPE implementation"
      ]
    },
    {
      "cell_type": "markdown",
      "metadata": {
        "id": "9c4uK0fIQq5c"
      },
      "source": [
        "GPU: https://pennylane.ai/install#high-performance-computing-and-gpus"
      ]
    },
    {
      "cell_type": "code",
      "execution_count": 4,
      "metadata": {
        "id": "1Ac57EcXQq5c"
      },
      "outputs": [],
      "source": [
        "GPU_SIMULATION = True\n",
        "num_shots = 1024\n",
        "if GPU_SIMULATION:\n",
        "    dev = qml.device(\"lightning.gpu\", shots = num_shots) #wires=num_qubits\n",
        "else:\n",
        "    dev = qml.device(\"default.qubit\", shots = num_shots) # None shots means analytical calculation"
      ]
    },
    {
      "cell_type": "code",
      "execution_count": 5,
      "metadata": {
        "id": "vkmev_WTQq5d"
      },
      "outputs": [],
      "source": [
        "@qml.qnode(dev)\n",
        "def circuit_qpe(\n",
        "    estimation_wires: list[int],\n",
        "    q_register: list[int],\n",
        "    state_prep: Callable[[list[int]], None],\n",
        "    controlled_unitary: Callable[..., None],\n",
        "    **kargs\n",
        "):\n",
        "    \"\"\"\n",
        "    Quantum Phase Estimation (QPE) circuit.\n",
        "\n",
        "    Args:\n",
        "        estimation_wires: List of qubits used to estimate the phase.\n",
        "        q_register: List of qubits holding the eigenstate of the unitary.\n",
        "        state_prep: Function that prepares the initial state |u⟩ on q_register.\n",
        "        controlled_unitary: Function that applies controlled-U^{2^i}.\n",
        "        **kargs: Additional arguments passed to controlled_unitary.\n",
        "\n",
        "    Returns:\n",
        "        Probability distribution over estimation_wires after QPE.\n",
        "    \"\"\"\n",
        "    # initial state\n",
        "    state_prep(q_register)\n",
        "\n",
        "    for wire in estimation_wires:\n",
        "        qml.Hadamard(wires=wire)\n",
        "\n",
        "    for i, control in enumerate(reversed(estimation_wires)):\n",
        "        controlled_unitary(control, q_register, 2**i, **kargs)\n",
        "\n",
        "    qml.adjoint(qml.QFT)(wires=estimation_wires)\n",
        "\n",
        "    return qml.probs(wires=estimation_wires)"
      ]
    },
    {
      "cell_type": "code",
      "execution_count": 6,
      "metadata": {
        "id": "2R5Ve6vbQq5e"
      },
      "outputs": [],
      "source": [
        "def binary_string_to_decimal(binary_string: str) -> float:\n",
        "    # binary_string represent the bits of the decimal number in format 0.i_1i_2...i_n\n",
        "    # where binary_string is i_1i_2...i_n\n",
        "    res = 0\n",
        "    for i, bit in enumerate(binary_string):\n",
        "        res += float(bit)*2**(-i-1)\n",
        "\n",
        "    return res"
      ]
    },
    {
      "cell_type": "markdown",
      "metadata": {
        "id": "f23JIwY7Qq5e"
      },
      "source": [
        "### Example\n",
        "\n",
        "Computing the phase $\\theta$ for $e^{i2\\pi/5}$, which is the eigenvalue of\n",
        "\n",
        "$U = \\begin{bmatrix}\n",
        "1 & 0 \\\\\n",
        "0 & e^{i2\\pi/5}\n",
        "\\end{bmatrix}$\n",
        "\n",
        "corresponding to the eigenvector $|1\\rangle$. The output should be $\\theta = 1/5$."
      ]
    },
    {
      "cell_type": "code",
      "execution_count": 7,
      "metadata": {
        "colab": {
          "base_uri": "https://localhost:8080/"
        },
        "id": "lFENB_4OQq5f",
        "outputId": "1f682be9-b0cf-4ec4-cb25-6b493929ba9e"
      },
      "outputs": [
        {
          "name": "stdout",
          "output_type": "stream",
          "text": [
            "('0.001101', np.float64(0.869140625))\n",
            "0.203125\n"
          ]
        }
      ],
      "source": [
        "num_digits = 6\n",
        "\n",
        "results = circuit_qpe(\n",
        "    estimation_wires=range(num_digits),\n",
        "    q_register = [num_digits],\n",
        "    state_prep = lambda wires: qml.X(wires[0]),\n",
        "    controlled_unitary = lambda control, q_register, k: qml.ControlledPhaseShift(2*k * np.pi / 5, wires=[control]+q_register)\n",
        ")\n",
        "\n",
        "results_ordered = [(f\"0.{x:0{num_digits}b}\", results[x]) for x in range(len(results))]\n",
        "results_ordered.sort(key=lambda tup: tup[1], reverse=True)\n",
        "\n",
        "print(results_ordered[0])\n",
        "print(binary_string_to_decimal(results_ordered[0][0][2:]))"
      ]
    },
    {
      "cell_type": "markdown",
      "metadata": {
        "id": "QivGmjiLQq5g"
      },
      "source": [
        "Notice the result is $\\approx 0.2 = 1/5$."
      ]
    },
    {
      "cell_type": "markdown",
      "metadata": {
        "id": "fpu4cCCcQq5h"
      },
      "source": [
        "# Application: Ground state energy for Hydrogen molecule (H2)"
      ]
    },
    {
      "cell_type": "markdown",
      "metadata": {
        "id": "m356ytvtQq5h"
      },
      "source": [
        "## Hamiltonian for H2\n",
        "\n",
        "Reference: https://dojo.qulacs.org/en/latest/notebooks/7.1_quantum_phase_estimation_detailed.html#Example:-Calculation-of-the-ground-state-energy-of-the-hydrogen-molecular-Hamiltonian-using-the-quantum-phase-estimation-algorithm\n",
        "\n",
        "The Hamiltonian of the Hydrogen molecule is written in the second quantized, expressed in terms of creation and annihilation operators acting on some basis of molecular orbitals. Then, using Bravyi-Kitaev transformation, this Hamiltonian is mapped into qubits using the minimial STO-6G basis, getting the 4-qubit Hamiltonian\n",
        "$$\n",
        "H = f_0 I + f_1Z_0 + f_2 Z_1 + f_3Z_2 + f_1Z_0Z_1 \\\\\n",
        "+ f_4Z_0Z_2 + f_5Z_1Z_3 + f_6X_0Z_1X_2 + f_6Y_0Z_1Y_2 \\\\\n",
        "+ f_7Z_0Z_1Z_2 + f_4Z_0Z_2Z_3 + f_3 Z_1Z_2Z_3 \\\\\n",
        "+ f_6 X_0 Z_1 X_2 Z_3 + f_6 Y_0 Z_1 Y_2 Z_3 + f_7Z_0Z_1Z_2Z_3,\n",
        "$$\n",
        "where the values $f_i$ depend on the fixed bond length of the molecule. Noticing this Hamiltonian stabilizes qubits 1 and 3 when they start in $|0\\rangle$ (as in Hartree-Fock state), we can obtain a reduced two-qubit Hamiltonian:\n",
        "$$\n",
        "H = \\sum_{i} g_i H_i = g_0I + g_1Z_0 + g_2Z_1 + g_3Z_0Z_1 + g_4Y_0Y_1 + g_5X_0X_1,\n",
        "$$\n",
        "where the $g_i$ values are function of the $f_i$ values.\n",
        "\n",
        "We need to decompose $U=e^{-i\\tau H}$ into a quantum circuit, where $\\tau$ is a constant such that $[E_{\\text{min}}, E_{\\text{max}}]$ is shrinked to $[0, 2\\pi]$. Since $g_0I$ and $g_3Z_0Z_1$ conmute with the other terms:\n",
        "$$\n",
        "e^{-i\\tau H} = \\exp(-i\\tau \\sum_{i} g_i H_i) = \\exp[-i\\tau g_0I]\\exp[-i\\tau g_3Z_0Z_1]\\exp[-i\\tau H_{eff}],\n",
        "$$\n",
        "$$\n",
        "H_{eff}:= g_1Z_0 + g_2Z_1+ g_4Y_0Y_1 + g_5X_0X_1.\n",
        "$$\n",
        "Use Trotterization:\n",
        "$$\n",
        "U_{eff}:=\\exp[-i\\tau H_{eff}] \\approx \\left(\\prod_{i=1,2,4, 5}\\exp[-i\\tau H_i/N ]\\right)^N.\n",
        "$$\n",
        "The exponentials in the right-hand side are of the form $\\exp(i\\theta P)$, where $P$ is a Pauli matrix, and it is easy to implement it in a quantum circuit."
      ]
    },
    {
      "cell_type": "markdown",
      "metadata": {
        "id": "CVq3TuLcQq5h"
      },
      "source": [
        "### Finding eigenvalues of $H$ and $H_{\\text{eff}}$ classically"
      ]
    },
    {
      "cell_type": "code",
      "execution_count": 7,
      "metadata": {
        "id": "-2iPbox7Qq5h"
      },
      "outputs": [],
      "source": [
        "def construct_H_eff(coeff: list[float]) -> np.ndarray:\n",
        "    c1, c2, c3, c4 = coeff\n",
        "\n",
        "    # Pauli matrices and the identity matrix\n",
        "    X = np.array([[0, 1], [1, 0]], dtype=complex)\n",
        "    Y = np.array([[0, -1j], [1j, 0]], dtype=complex)\n",
        "    Z = np.array([[1, 0], [0, -1]], dtype=complex)\n",
        "    I = np.eye(2, dtype=complex)\n",
        "\n",
        "    # c1 * Z_0\n",
        "    term1 = c1 * np.kron(Z, I)\n",
        "\n",
        "    # c2 * Z_1\n",
        "    term2 = c2 * np.kron(I, Z)\n",
        "\n",
        "    # c3 * Y_0 Y_1\n",
        "    term3 = c3 * np.kron(Y, Y)\n",
        "\n",
        "    # c4 * X_0 X_1\n",
        "    term4 = c4 * np.kron(X, X)\n",
        "\n",
        "    return term1 + term2 + term3 + term4\n",
        "\n",
        "\n",
        "\n",
        "def construct_hamiltonian(coeff: list[float]) -> np.ndarray:\n",
        "    g0, g1, g2, g3, g4, g5 = coeff\n",
        "\n",
        "    # Pauli matrix Z\n",
        "    Z = np.array([[1, 0], [0, -1]], dtype=complex)\n",
        "\n",
        "    # g0 * I\n",
        "    term1 = g0 * np.eye(4, dtype=complex)\n",
        "\n",
        "    # g3 * Z_0 Z_1\n",
        "    term2 = g3 * np.kron(Z, Z)\n",
        "\n",
        "    # H_eff\n",
        "    H_eff = construct_H_eff([g1, g2, g4, g5])\n",
        "\n",
        "    return term1 + term2 + H_eff"
      ]
    },
    {
      "cell_type": "markdown",
      "metadata": {
        "id": "_Rxdo_HaQq5h"
      },
      "source": [
        "Table of coefficientes for different internuclear distance"
      ]
    },
    {
      "cell_type": "code",
      "execution_count": 8,
      "metadata": {
        "colab": {
          "base_uri": "https://localhost:8080/",
          "height": 206
        },
        "id": "qFl6eyOjQq5i",
        "outputId": "5609ceb4-e959-4970-be58-648053f95b9c"
      },
      "outputs": [
        {
          "data": {
            "application/vnd.google.colaboratory.intrinsic+json": {
              "summary": "{\n  \"name\": \"coeffs_df\",\n  \"rows\": 54,\n  \"fields\": [\n    {\n      \"column\": \"nuclear_dist\",\n      \"properties\": {\n        \"dtype\": \"number\",\n        \"std\": 0.7866066361276136,\n        \"min\": 0.2,\n        \"max\": 2.85,\n        \"num_unique_values\": 54,\n        \"samples\": [\n          1.15,\n          2.65,\n          2.6\n        ],\n        \"semantic_type\": \"\",\n        \"description\": \"\"\n      }\n    },\n    {\n      \"column\": \"I\",\n      \"properties\": {\n        \"dtype\": \"number\",\n        \"std\": 0.6943992652406372,\n        \"min\": -0.5707,\n        \"max\": 2.8489,\n        \"num_unique_values\": 53,\n        \"samples\": [\n          -0.5631,\n          -0.528,\n          -0.5114\n        ],\n        \"semantic_type\": \"\",\n        \"description\": \"\"\n      }\n    },\n    {\n      \"column\": \"Z0\",\n      \"properties\": {\n        \"dtype\": \"number\",\n        \"std\": 0.1337349894265716,\n        \"min\": 0.0984,\n        \"max\": 0.5678,\n        \"num_unique_values\": 54,\n        \"samples\": [\n          0.2467,\n          0.1042,\n          0.1059\n        ],\n        \"semantic_type\": \"\",\n        \"description\": \"\"\n      }\n    },\n    {\n      \"column\": \"Z1\",\n      \"properties\": {\n        \"dtype\": \"number\",\n        \"std\": 0.37932827225330545,\n        \"min\": -1.4508,\n        \"max\": 0.0679,\n        \"num_unique_values\": 54,\n        \"samples\": [\n          -0.181,\n          0.0614,\n          0.0594\n        ],\n        \"semantic_type\": \"\",\n        \"description\": \"\"\n      }\n    },\n    {\n      \"column\": \"Z0Z1\",\n      \"properties\": {\n        \"dtype\": \"number\",\n        \"std\": 0.10655364504903388,\n        \"min\": 0.3329,\n        \"max\": 0.6799,\n        \"num_unique_values\": 54,\n        \"samples\": [\n          0.4974,\n          0.3433,\n          0.3461\n        ],\n        \"semantic_type\": \"\",\n        \"description\": \"\"\n      }\n    },\n    {\n      \"column\": \"X0X1\",\n      \"properties\": {\n        \"dtype\": \"number\",\n        \"std\": 0.022091987663807114,\n        \"min\": 0.0791,\n        \"max\": 0.1475,\n        \"num_unique_values\": 54,\n        \"samples\": [\n          0.1034,\n          0.1441,\n          0.1432\n        ],\n        \"semantic_type\": \"\",\n        \"description\": \"\"\n      }\n    },\n    {\n      \"column\": \"Y0Y1\",\n      \"properties\": {\n        \"dtype\": \"number\",\n        \"std\": 0.022091987663807114,\n        \"min\": 0.0791,\n        \"max\": 0.1475,\n        \"num_unique_values\": 54,\n        \"samples\": [\n          0.1034,\n          0.1441,\n          0.1432\n        ],\n        \"semantic_type\": \"\",\n        \"description\": \"\"\n      }\n    },\n    {\n      \"column\": \"t0\",\n      \"properties\": {\n        \"dtype\": \"number\",\n        \"std\": 3.8128707011813714,\n        \"min\": 0.4,\n        \"max\": 11.5,\n        \"num_unique_values\": 52,\n        \"samples\": [\n          5.51,\n          0.42,\n          11.04\n        ],\n        \"semantic_type\": \"\",\n        \"description\": \"\"\n      }\n    },\n    {\n      \"column\": \"ordering\",\n      \"properties\": {\n        \"dtype\": \"category\",\n        \"num_unique_values\": 18,\n        \"samples\": [\n          \"Z0\\u00b7X0X1\\u00b7Z1\\u00b7Y0Y1\",\n          \"Z0\\u00b7Y0Y1\\u00b7Z1\\u00b7X0X1\",\n          \"Z1\\u00b7Z0\\u00b7X0X1\\u00b7Y0Y1\"\n        ],\n        \"semantic_type\": \"\",\n        \"description\": \"\"\n      }\n    },\n    {\n      \"column\": \"trotter_error\",\n      \"properties\": {\n        \"dtype\": \"number\",\n        \"std\": 0.026615482062041052,\n        \"min\": 0.0014,\n        \"max\": 0.0947,\n        \"num_unique_values\": 52,\n        \"samples\": [\n          0.0497,\n          0.0946,\n          0.0507\n        ],\n        \"semantic_type\": \"\",\n        \"description\": \"\"\n      }\n    }\n  ]\n}",
              "type": "dataframe",
              "variable_name": "coeffs_df"
            },
            "text/html": [
              "\n",
              "  <div id=\"df-0a4207cc-cbf8-4974-bc04-bc1b330e8a33\" class=\"colab-df-container\">\n",
              "    <div>\n",
              "<style scoped>\n",
              "    .dataframe tbody tr th:only-of-type {\n",
              "        vertical-align: middle;\n",
              "    }\n",
              "\n",
              "    .dataframe tbody tr th {\n",
              "        vertical-align: top;\n",
              "    }\n",
              "\n",
              "    .dataframe thead th {\n",
              "        text-align: right;\n",
              "    }\n",
              "</style>\n",
              "<table border=\"1\" class=\"dataframe\">\n",
              "  <thead>\n",
              "    <tr style=\"text-align: right;\">\n",
              "      <th></th>\n",
              "      <th>nuclear_dist</th>\n",
              "      <th>I</th>\n",
              "      <th>Z0</th>\n",
              "      <th>Z1</th>\n",
              "      <th>Z0Z1</th>\n",
              "      <th>X0X1</th>\n",
              "      <th>Y0Y1</th>\n",
              "      <th>t0</th>\n",
              "      <th>ordering</th>\n",
              "      <th>trotter_error</th>\n",
              "    </tr>\n",
              "  </thead>\n",
              "  <tbody>\n",
              "    <tr>\n",
              "      <th>0</th>\n",
              "      <td>0.20</td>\n",
              "      <td>2.8489</td>\n",
              "      <td>0.5678</td>\n",
              "      <td>-1.4508</td>\n",
              "      <td>0.6799</td>\n",
              "      <td>0.0791</td>\n",
              "      <td>0.0791</td>\n",
              "      <td>1.50</td>\n",
              "      <td>Z0·X0X1·Z1·Y0Y1</td>\n",
              "      <td>0.0124</td>\n",
              "    </tr>\n",
              "    <tr>\n",
              "      <th>1</th>\n",
              "      <td>0.25</td>\n",
              "      <td>2.1868</td>\n",
              "      <td>0.5449</td>\n",
              "      <td>-1.2870</td>\n",
              "      <td>0.6719</td>\n",
              "      <td>0.0798</td>\n",
              "      <td>0.0798</td>\n",
              "      <td>1.59</td>\n",
              "      <td>Z0·Y0Y1·Z1·X0X1</td>\n",
              "      <td>0.0521</td>\n",
              "    </tr>\n",
              "    <tr>\n",
              "      <th>2</th>\n",
              "      <td>0.30</td>\n",
              "      <td>1.7252</td>\n",
              "      <td>0.5215</td>\n",
              "      <td>-1.1458</td>\n",
              "      <td>0.6631</td>\n",
              "      <td>0.0806</td>\n",
              "      <td>0.0806</td>\n",
              "      <td>1.77</td>\n",
              "      <td>X0X1·Z0·Y0Y1·Z1</td>\n",
              "      <td>0.0111</td>\n",
              "    </tr>\n",
              "    <tr>\n",
              "      <th>3</th>\n",
              "      <td>0.35</td>\n",
              "      <td>1.3827</td>\n",
              "      <td>0.4982</td>\n",
              "      <td>-1.0226</td>\n",
              "      <td>0.6537</td>\n",
              "      <td>0.0815</td>\n",
              "      <td>0.0815</td>\n",
              "      <td>2.08</td>\n",
              "      <td>Z0·X0X1·Z1·Y0Y1</td>\n",
              "      <td>0.0368</td>\n",
              "    </tr>\n",
              "    <tr>\n",
              "      <th>4</th>\n",
              "      <td>0.40</td>\n",
              "      <td>-0.2047</td>\n",
              "      <td>0.4754</td>\n",
              "      <td>-0.9145</td>\n",
              "      <td>0.6438</td>\n",
              "      <td>0.0825</td>\n",
              "      <td>0.0825</td>\n",
              "      <td>2.10</td>\n",
              "      <td>Z0·X0X1·Z1·Y0Y1</td>\n",
              "      <td>0.0088</td>\n",
              "    </tr>\n",
              "  </tbody>\n",
              "</table>\n",
              "</div>\n",
              "    <div class=\"colab-df-buttons\">\n",
              "\n",
              "  <div class=\"colab-df-container\">\n",
              "    <button class=\"colab-df-convert\" onclick=\"convertToInteractive('df-0a4207cc-cbf8-4974-bc04-bc1b330e8a33')\"\n",
              "            title=\"Convert this dataframe to an interactive table.\"\n",
              "            style=\"display:none;\">\n",
              "\n",
              "  <svg xmlns=\"http://www.w3.org/2000/svg\" height=\"24px\" viewBox=\"0 -960 960 960\">\n",
              "    <path d=\"M120-120v-720h720v720H120Zm60-500h600v-160H180v160Zm220 220h160v-160H400v160Zm0 220h160v-160H400v160ZM180-400h160v-160H180v160Zm440 0h160v-160H620v160ZM180-180h160v-160H180v160Zm440 0h160v-160H620v160Z\"/>\n",
              "  </svg>\n",
              "    </button>\n",
              "\n",
              "  <style>\n",
              "    .colab-df-container {\n",
              "      display:flex;\n",
              "      gap: 12px;\n",
              "    }\n",
              "\n",
              "    .colab-df-convert {\n",
              "      background-color: #E8F0FE;\n",
              "      border: none;\n",
              "      border-radius: 50%;\n",
              "      cursor: pointer;\n",
              "      display: none;\n",
              "      fill: #1967D2;\n",
              "      height: 32px;\n",
              "      padding: 0 0 0 0;\n",
              "      width: 32px;\n",
              "    }\n",
              "\n",
              "    .colab-df-convert:hover {\n",
              "      background-color: #E2EBFA;\n",
              "      box-shadow: 0px 1px 2px rgba(60, 64, 67, 0.3), 0px 1px 3px 1px rgba(60, 64, 67, 0.15);\n",
              "      fill: #174EA6;\n",
              "    }\n",
              "\n",
              "    .colab-df-buttons div {\n",
              "      margin-bottom: 4px;\n",
              "    }\n",
              "\n",
              "    [theme=dark] .colab-df-convert {\n",
              "      background-color: #3B4455;\n",
              "      fill: #D2E3FC;\n",
              "    }\n",
              "\n",
              "    [theme=dark] .colab-df-convert:hover {\n",
              "      background-color: #434B5C;\n",
              "      box-shadow: 0px 1px 3px 1px rgba(0, 0, 0, 0.15);\n",
              "      filter: drop-shadow(0px 1px 2px rgba(0, 0, 0, 0.3));\n",
              "      fill: #FFFFFF;\n",
              "    }\n",
              "  </style>\n",
              "\n",
              "    <script>\n",
              "      const buttonEl =\n",
              "        document.querySelector('#df-0a4207cc-cbf8-4974-bc04-bc1b330e8a33 button.colab-df-convert');\n",
              "      buttonEl.style.display =\n",
              "        google.colab.kernel.accessAllowed ? 'block' : 'none';\n",
              "\n",
              "      async function convertToInteractive(key) {\n",
              "        const element = document.querySelector('#df-0a4207cc-cbf8-4974-bc04-bc1b330e8a33');\n",
              "        const dataTable =\n",
              "          await google.colab.kernel.invokeFunction('convertToInteractive',\n",
              "                                                    [key], {});\n",
              "        if (!dataTable) return;\n",
              "\n",
              "        const docLinkHtml = 'Like what you see? Visit the ' +\n",
              "          '<a target=\"_blank\" href=https://colab.research.google.com/notebooks/data_table.ipynb>data table notebook</a>'\n",
              "          + ' to learn more about interactive tables.';\n",
              "        element.innerHTML = '';\n",
              "        dataTable['output_type'] = 'display_data';\n",
              "        await google.colab.output.renderOutput(dataTable, element);\n",
              "        const docLink = document.createElement('div');\n",
              "        docLink.innerHTML = docLinkHtml;\n",
              "        element.appendChild(docLink);\n",
              "      }\n",
              "    </script>\n",
              "  </div>\n",
              "\n",
              "\n",
              "    <div id=\"df-7dcb91ba-40fe-40ba-9b7f-085107dbf715\">\n",
              "      <button class=\"colab-df-quickchart\" onclick=\"quickchart('df-7dcb91ba-40fe-40ba-9b7f-085107dbf715')\"\n",
              "                title=\"Suggest charts\"\n",
              "                style=\"display:none;\">\n",
              "\n",
              "<svg xmlns=\"http://www.w3.org/2000/svg\" height=\"24px\"viewBox=\"0 0 24 24\"\n",
              "     width=\"24px\">\n",
              "    <g>\n",
              "        <path d=\"M19 3H5c-1.1 0-2 .9-2 2v14c0 1.1.9 2 2 2h14c1.1 0 2-.9 2-2V5c0-1.1-.9-2-2-2zM9 17H7v-7h2v7zm4 0h-2V7h2v10zm4 0h-2v-4h2v4z\"/>\n",
              "    </g>\n",
              "</svg>\n",
              "      </button>\n",
              "\n",
              "<style>\n",
              "  .colab-df-quickchart {\n",
              "      --bg-color: #E8F0FE;\n",
              "      --fill-color: #1967D2;\n",
              "      --hover-bg-color: #E2EBFA;\n",
              "      --hover-fill-color: #174EA6;\n",
              "      --disabled-fill-color: #AAA;\n",
              "      --disabled-bg-color: #DDD;\n",
              "  }\n",
              "\n",
              "  [theme=dark] .colab-df-quickchart {\n",
              "      --bg-color: #3B4455;\n",
              "      --fill-color: #D2E3FC;\n",
              "      --hover-bg-color: #434B5C;\n",
              "      --hover-fill-color: #FFFFFF;\n",
              "      --disabled-bg-color: #3B4455;\n",
              "      --disabled-fill-color: #666;\n",
              "  }\n",
              "\n",
              "  .colab-df-quickchart {\n",
              "    background-color: var(--bg-color);\n",
              "    border: none;\n",
              "    border-radius: 50%;\n",
              "    cursor: pointer;\n",
              "    display: none;\n",
              "    fill: var(--fill-color);\n",
              "    height: 32px;\n",
              "    padding: 0;\n",
              "    width: 32px;\n",
              "  }\n",
              "\n",
              "  .colab-df-quickchart:hover {\n",
              "    background-color: var(--hover-bg-color);\n",
              "    box-shadow: 0 1px 2px rgba(60, 64, 67, 0.3), 0 1px 3px 1px rgba(60, 64, 67, 0.15);\n",
              "    fill: var(--button-hover-fill-color);\n",
              "  }\n",
              "\n",
              "  .colab-df-quickchart-complete:disabled,\n",
              "  .colab-df-quickchart-complete:disabled:hover {\n",
              "    background-color: var(--disabled-bg-color);\n",
              "    fill: var(--disabled-fill-color);\n",
              "    box-shadow: none;\n",
              "  }\n",
              "\n",
              "  .colab-df-spinner {\n",
              "    border: 2px solid var(--fill-color);\n",
              "    border-color: transparent;\n",
              "    border-bottom-color: var(--fill-color);\n",
              "    animation:\n",
              "      spin 1s steps(1) infinite;\n",
              "  }\n",
              "\n",
              "  @keyframes spin {\n",
              "    0% {\n",
              "      border-color: transparent;\n",
              "      border-bottom-color: var(--fill-color);\n",
              "      border-left-color: var(--fill-color);\n",
              "    }\n",
              "    20% {\n",
              "      border-color: transparent;\n",
              "      border-left-color: var(--fill-color);\n",
              "      border-top-color: var(--fill-color);\n",
              "    }\n",
              "    30% {\n",
              "      border-color: transparent;\n",
              "      border-left-color: var(--fill-color);\n",
              "      border-top-color: var(--fill-color);\n",
              "      border-right-color: var(--fill-color);\n",
              "    }\n",
              "    40% {\n",
              "      border-color: transparent;\n",
              "      border-right-color: var(--fill-color);\n",
              "      border-top-color: var(--fill-color);\n",
              "    }\n",
              "    60% {\n",
              "      border-color: transparent;\n",
              "      border-right-color: var(--fill-color);\n",
              "    }\n",
              "    80% {\n",
              "      border-color: transparent;\n",
              "      border-right-color: var(--fill-color);\n",
              "      border-bottom-color: var(--fill-color);\n",
              "    }\n",
              "    90% {\n",
              "      border-color: transparent;\n",
              "      border-bottom-color: var(--fill-color);\n",
              "    }\n",
              "  }\n",
              "</style>\n",
              "\n",
              "      <script>\n",
              "        async function quickchart(key) {\n",
              "          const quickchartButtonEl =\n",
              "            document.querySelector('#' + key + ' button');\n",
              "          quickchartButtonEl.disabled = true;  // To prevent multiple clicks.\n",
              "          quickchartButtonEl.classList.add('colab-df-spinner');\n",
              "          try {\n",
              "            const charts = await google.colab.kernel.invokeFunction(\n",
              "                'suggestCharts', [key], {});\n",
              "          } catch (error) {\n",
              "            console.error('Error during call to suggestCharts:', error);\n",
              "          }\n",
              "          quickchartButtonEl.classList.remove('colab-df-spinner');\n",
              "          quickchartButtonEl.classList.add('colab-df-quickchart-complete');\n",
              "        }\n",
              "        (() => {\n",
              "          let quickchartButtonEl =\n",
              "            document.querySelector('#df-7dcb91ba-40fe-40ba-9b7f-085107dbf715 button');\n",
              "          quickchartButtonEl.style.display =\n",
              "            google.colab.kernel.accessAllowed ? 'block' : 'none';\n",
              "        })();\n",
              "      </script>\n",
              "    </div>\n",
              "\n",
              "    </div>\n",
              "  </div>\n"
            ],
            "text/plain": [
              "   nuclear_dist       I      Z0      Z1    Z0Z1    X0X1    Y0Y1    t0  \\\n",
              "0          0.20  2.8489  0.5678 -1.4508  0.6799  0.0791  0.0791  1.50   \n",
              "1          0.25  2.1868  0.5449 -1.2870  0.6719  0.0798  0.0798  1.59   \n",
              "2          0.30  1.7252  0.5215 -1.1458  0.6631  0.0806  0.0806  1.77   \n",
              "3          0.35  1.3827  0.4982 -1.0226  0.6537  0.0815  0.0815  2.08   \n",
              "4          0.40 -0.2047  0.4754 -0.9145  0.6438  0.0825  0.0825  2.10   \n",
              "\n",
              "          ordering  trotter_error  \n",
              "0  Z0·X0X1·Z1·Y0Y1         0.0124  \n",
              "1  Z0·Y0Y1·Z1·X0X1         0.0521  \n",
              "2  X0X1·Z0·Y0Y1·Z1         0.0111  \n",
              "3  Z0·X0X1·Z1·Y0Y1         0.0368  \n",
              "4  Z0·X0X1·Z1·Y0Y1         0.0088  "
            ]
          },
          "execution_count": 8,
          "metadata": {},
          "output_type": "execute_result"
        }
      ],
      "source": [
        "table_coeffs_path = \"/content/drive/MyDrive/Miguel R - Thesis MSc/table_coeffs.csv\"\n",
        "coeffs_df = pd.read_csv(table_coeffs_path)\n",
        "coeffs_df.head()"
      ]
    },
    {
      "cell_type": "code",
      "execution_count": null,
      "metadata": {
        "colab": {
          "base_uri": "https://localhost:8080/"
        },
        "id": "tTGRZ3UAbOLV",
        "outputId": "d9a2cb47-a974-4757-d393-7a6dcc70b406"
      },
      "outputs": [
        {
          "data": {
            "text/plain": [
              "(['Z0', 'X0X1', 'Z1', 'Y0Y1'], 'Z0·X0X1·Z1·Y0Y1')"
            ]
          },
          "execution_count": 9,
          "metadata": {},
          "output_type": "execute_result"
        }
      ],
      "source": [
        "coeffs_df[\"ordering\"].iloc[0].split(\"·\"), coeffs_df[\"ordering\"].iloc[0]"
      ]
    },
    {
      "cell_type": "markdown",
      "metadata": {
        "id": "yZ2olxkwQq5i"
      },
      "source": [
        "Computing the ground state energy for internuclear distance $R=0.70$"
      ]
    },
    {
      "cell_type": "code",
      "execution_count": 11,
      "metadata": {
        "colab": {
          "base_uri": "https://localhost:8080/",
          "height": 398
        },
        "id": "qA2IiwbNQq5i",
        "outputId": "6644ca83-d244-48f0-f45c-32ba7717ffd6"
      },
      "outputs": [
        {
          "data": {
            "text/html": [
              "<div>\n",
              "<style scoped>\n",
              "    .dataframe tbody tr th:only-of-type {\n",
              "        vertical-align: middle;\n",
              "    }\n",
              "\n",
              "    .dataframe tbody tr th {\n",
              "        vertical-align: top;\n",
              "    }\n",
              "\n",
              "    .dataframe thead th {\n",
              "        text-align: right;\n",
              "    }\n",
              "</style>\n",
              "<table border=\"1\" class=\"dataframe\">\n",
              "  <thead>\n",
              "    <tr style=\"text-align: right;\">\n",
              "      <th></th>\n",
              "      <th>10</th>\n",
              "    </tr>\n",
              "  </thead>\n",
              "  <tbody>\n",
              "    <tr>\n",
              "      <th>nuclear_dist</th>\n",
              "      <td>0.7</td>\n",
              "    </tr>\n",
              "    <tr>\n",
              "      <th>I</th>\n",
              "      <td>-0.4584</td>\n",
              "    </tr>\n",
              "    <tr>\n",
              "      <th>Z0</th>\n",
              "      <td>0.3593</td>\n",
              "    </tr>\n",
              "    <tr>\n",
              "      <th>Z1</th>\n",
              "      <td>-0.4826</td>\n",
              "    </tr>\n",
              "    <tr>\n",
              "      <th>Z0Z1</th>\n",
              "      <td>0.5818</td>\n",
              "    </tr>\n",
              "    <tr>\n",
              "      <th>X0X1</th>\n",
              "      <td>0.0896</td>\n",
              "    </tr>\n",
              "    <tr>\n",
              "      <th>Y0Y1</th>\n",
              "      <td>0.0896</td>\n",
              "    </tr>\n",
              "    <tr>\n",
              "      <th>t0</th>\n",
              "      <td>0.64</td>\n",
              "    </tr>\n",
              "    <tr>\n",
              "      <th>ordering</th>\n",
              "      <td>Z0·Y0Y1·Z1·X0X1</td>\n",
              "    </tr>\n",
              "    <tr>\n",
              "      <th>trotter_error</th>\n",
              "      <td>0.0171</td>\n",
              "    </tr>\n",
              "  </tbody>\n",
              "</table>\n",
              "</div><br><label><b>dtype:</b> object</label>"
            ],
            "text/plain": [
              "nuclear_dist                 0.7\n",
              "I                        -0.4584\n",
              "Z0                        0.3593\n",
              "Z1                       -0.4826\n",
              "Z0Z1                      0.5818\n",
              "X0X1                      0.0896\n",
              "Y0Y1                      0.0896\n",
              "t0                          0.64\n",
              "ordering         Z0·Y0Y1·Z1·X0X1\n",
              "trotter_error             0.0171\n",
              "Name: 10, dtype: object"
            ]
          },
          "execution_count": 11,
          "metadata": {},
          "output_type": "execute_result"
        }
      ],
      "source": [
        "coeffs_eg = coeffs_df.loc[10]\n",
        "coeffs_eg"
      ]
    },
    {
      "cell_type": "code",
      "execution_count": 12,
      "metadata": {
        "id": "4JMTg68uQq5i"
      },
      "outputs": [],
      "source": [
        "H_eff = construct_H_eff(coeffs_eg[[\"Z0\", \"Z1\", \"Y0Y1\", \"X0X1\"]])\n",
        "H = construct_hamiltonian(coeffs_eg[[\"I\", \"Z0\", \"Z1\", \"Z0Z1\", \"Y0Y1\", \"X0X1\"]])"
      ]
    },
    {
      "cell_type": "code",
      "execution_count": null,
      "metadata": {
        "colab": {
          "base_uri": "https://localhost:8080/"
        },
        "id": "nTDOJGYcQq5j",
        "outputId": "138b4339-89b4-4c98-f812-6122fdec2d18"
      },
      "outputs": [
        {
          "name": "stdout",
          "output_type": "stream",
          "text": [
            "H\n",
            "Eigenvalues: [-1.90096027e+00+0.j -1.79439726e-01+0.j  1.00000000e-04+0.j\n",
            "  2.46700000e-01+0.j]\n",
            "Minimum: (-1.900960274408618+0j)\n",
            "----------\n",
            "H_eff\n",
            "Eigenvalues: [-0.86076027+0.j  0.86076027+0.j -0.1233    +0.j  0.1233    +0.j]\n",
            "Minimum: (-0.8607602744086181+0j)\n"
          ]
        }
      ],
      "source": [
        "eigs_H = np.linalg.eigvals(H)\n",
        "eigs_H_eff = np.linalg.eigvals(H_eff)\n",
        "\n",
        "print(\"H\")\n",
        "print(\"Eigenvalues:\", eigs_H)\n",
        "print(\"Minimum:\", np.min(eigs_H))\n",
        "print(\"-\"*10)\n",
        "print(\"H_eff\")\n",
        "print(\"Eigenvalues:\", eigs_H_eff)\n",
        "print(\"Minimum:\", np.min(eigs_H_eff))"
      ]
    },
    {
      "cell_type": "markdown",
      "metadata": {
        "id": "wD4K4BHwQq5k"
      },
      "source": [
        "Notice:"
      ]
    },
    {
      "cell_type": "code",
      "execution_count": null,
      "metadata": {
        "colab": {
          "base_uri": "https://localhost:8080/"
        },
        "id": "xrd0e1zFQq5k",
        "outputId": "bc81fdc8-e5b8-4203-dbf5-07cef4886455"
      },
      "outputs": [
        {
          "data": {
            "text/plain": [
              "np.complex128(-1.900960274408618+0j)"
            ]
          },
          "execution_count": 14,
          "metadata": {},
          "output_type": "execute_result"
        }
      ],
      "source": [
        "coeffs_eg[\"I\"] - coeffs_eg[\"Z0Z1\"] + np.min(eigs_H_eff) # -> np.min(eigs_H)"
      ]
    },
    {
      "cell_type": "markdown",
      "metadata": {
        "id": "1FdCicdnQq5k"
      },
      "source": [
        "### Computing the exact energy surface"
      ]
    },
    {
      "cell_type": "code",
      "execution_count": 9,
      "metadata": {
        "id": "nEHd0ecFQq5k"
      },
      "outputs": [],
      "source": [
        "energy_surface = np.zeros(len(coeffs_df))\n",
        "for idx, coeffs in coeffs_df.iterrows():\n",
        "    hamiltonian = construct_hamiltonian(coeffs[[\"I\", \"Z0\", \"Z1\", \"Z0Z1\", \"Y0Y1\", \"X0X1\"]]) # construct_H_eff(coeffs[[\"Z0\", \"Z1\", \"Y0Y1\", \"X0X1\"]])\n",
        "    eigs_H = np.linalg.eigvals(hamiltonian)\n",
        "    energy_surface[idx] = np.min(eigs_H).real"
      ]
    },
    {
      "cell_type": "code",
      "execution_count": 10,
      "metadata": {
        "colab": {
          "base_uri": "https://localhost:8080/",
          "height": 449
        },
        "id": "LkqYBh5tQq5l",
        "outputId": "5fd61116-da64-4312-d673-2460e86bd3d4"
      },
      "outputs": [
        {
          "data": {
            "image/png": "[encoded data removed]",
            "text/plain": [
              "<Figure size 640x480 with 1 Axes>"
            ]
          },
          "metadata": {},
          "output_type": "display_data"
        }
      ],
      "source": [
        "plt.plot(coeffs_df[\"nuclear_dist\"]/0.52917721067121, energy_surface, marker=\"o\", label=\"Energy Surface\")\n",
        "plt.xlabel(\"Internuclear Distance R (angstrom)\")\n",
        "plt.ylabel(\"Total energy (Hartree)\")\n",
        "plt.legend()\n",
        "plt.show()"
      ]
    },
    {
      "cell_type": "markdown",
      "metadata": {
        "id": "wKCP89GYQq5l"
      },
      "source": [
        "### Finding eigenvalues of $H$ with Quantum Phase Estimation algorithm"
      ]
    },
    {
      "cell_type": "markdown",
      "metadata": {
        "id": "8saFBQdgQq5l"
      },
      "source": [
        "Function that computes the controlled $U^{2^j}$ gates for the QPE circuit, where $U=\\exp(-iH\\tau)$ is computed with the Trotter approximation."
      ]
    },
    {
      "cell_type": "code",
      "execution_count": 11,
      "metadata": {
        "id": "UbbbAm8le24w"
      },
      "outputs": [],
      "source": [
        "def ctrl_RZZ(phi: float, control: int, target_wires: list[int]):\n",
        "    qml.CNOT(wires=target_wires)\n",
        "    qml.CRZ(phi=phi, wires=[control, target_wires[1]])\n",
        "    qml.CNOT(wires=target_wires)\n",
        "\n",
        "def ctrl_RXX(phi: float, control: int, target_wires: list[int]):\n",
        "    qml.Hadamard(wires=target_wires[0])\n",
        "    qml.Hadamard(wires=target_wires[1])\n",
        "    ctrl_RZZ(phi=phi, control=control, target_wires=target_wires)\n",
        "    qml.Hadamard(wires=target_wires[0])\n",
        "    qml.Hadamard(wires=target_wires[1])\n",
        "\n",
        "def ctrl_RYY(phi: float, control: int, target_wires: list[int]):\n",
        "    qml.adjoint(qml.S)(wires=target_wires[0])\n",
        "    qml.adjoint(qml.S)(wires=target_wires[1])\n",
        "    ctrl_RXX(phi=phi, control=control, target_wires=target_wires)\n",
        "    qml.S(wires=target_wires[0])\n",
        "    qml.S(wires=target_wires[1])"
      ]
    },
    {
      "cell_type": "code",
      "execution_count": 12,
      "metadata": {
        "id": "Og4C_0YJgBg1"
      },
      "outputs": [],
      "source": [
        "def string_to_operator(operator: str, phi: float, control: int, target_wires: list[int]):\n",
        "    # apply controlled-RZ, controlled-RXX or controlled-RYY, according to parameter ``operator``\n",
        "    if operator == \"Z0\" or operator == \"Z1\":\n",
        "        target = target_wires[0] if operator[1] == \"0\" else target_wires[1]\n",
        "        qml.CRZ(phi=phi, wires=[control, target])\n",
        "    elif operator == \"Y0Y1\":\n",
        "        ctrl_RYY(phi=phi, control=control, target_wires=target_wires)\n",
        "    elif operator == \"X0X1\":\n",
        "        ctrl_RXX(phi=phi, control=control, target_wires=target_wires)\n",
        "\n",
        "\n",
        "def controlledHydrogenUnitary(\n",
        "    control: int,\n",
        "    target_wires: list[int],\n",
        "    k: int,\n",
        "    tau: float,\n",
        "    trotter_steps: int,\n",
        "    coeff: dict[str, float],\n",
        "    add_ZZ: bool = False,\n",
        "    ordering: Optional[list[str]] = None\n",
        "):\n",
        "    \"\"\"Apply the controlled-exp(-i*tau*k*H), where H is explained above.\n",
        "    The order of terms in H is specified in the ``ordering`` parameter, e.g.,\n",
        "    [\"Z0\", \"X0X1\", \"Z1\", \"Y0Y1\"]. Only the terms in this example list are considered.\n",
        "    These strings are keys from coeff when it is a dictionary\n",
        "    \"\"\"\n",
        "\n",
        "    # we may omit exp(-i*tau*g_0 I) and add tau*g_0 to the eigenvalue obtained\n",
        "\n",
        "    # controlled-RZZ\n",
        "    if add_ZZ:\n",
        "        ctrl_RZZ(phi=2 * coeff[\"Z0Z1\"] * tau * k, control=control, target_wires=target_wires)\n",
        "\n",
        "    # default operator ordering\n",
        "    if ordering is None:\n",
        "        ordering = [\"Z0\", \"Y0Y1\", \"Z1\", \"X0X1\"]\n",
        "\n",
        "    # trotterization for U_eff^k\n",
        "    for _ in range(trotter_steps):\n",
        "        for operator in ordering:\n",
        "            string_to_operator(operator, 2 * tau * k * coeff[operator] / trotter_steps, control, target_wires)"
      ]
    },
    {
      "cell_type": "markdown",
      "metadata": {
        "id": "MjmDMowaQq5l"
      },
      "source": [
        "### Example of how incrementing the Trotter steps gives more accuracy:\n",
        "\n",
        "- Initial state with sufficient overlap with the ground state: the Hartree-Fock state which is $|01\\rangle$."
      ]
    },
    {
      "cell_type": "code",
      "execution_count": null,
      "metadata": {
        "id": "5m05XN7cZojL"
      },
      "outputs": [],
      "source": [
        "tau = coeffs_eg[\"t0\"]\n",
        "coeff = coeffs_eg[[\"I\", \"Z0\", \"Z1\", \"Z0Z1\", \"Y0Y1\", \"X0X1\"]]"
      ]
    },
    {
      "cell_type": "code",
      "execution_count": null,
      "metadata": {
        "id": "0eKdJV34Qq5l"
      },
      "outputs": [],
      "source": [
        "COMPUTE_WORKLOAD = False\n",
        "\n",
        "if COMPUTE_WORKLOAD:\n",
        "    eigs = []\n",
        "\n",
        "    max_trotter_steps = 100\n",
        "    num_digits = 12\n",
        "\n",
        "    for trotter_steps in tqdm(range(1, max_trotter_steps+1)):\n",
        "        results = circuit_qpe(\n",
        "            estimation_wires=range(num_digits),\n",
        "            q_register = [num_digits, num_digits+1],\n",
        "            state_prep = lambda wires: qml.X(wires[0]),\n",
        "            controlled_unitary = controlledHydrogenUnitary,\n",
        "            tau = tau,\n",
        "            trotter_steps = trotter_steps,\n",
        "            coeff = coeff,\n",
        "        )\n",
        "\n",
        "        results_ordered = [(f\"0.{x:0{num_digits}b}\", results[x]) for x in range(len(results))]\n",
        "        results_ordered.sort(key=lambda tup: tup[1], reverse=True)\n",
        "\n",
        "        phase = binary_string_to_decimal(results_ordered[0][0][2:])\n",
        "\n",
        "        estimated_eig = -2*np.pi*phase/tau\n",
        "\n",
        "        eigs.append(estimated_eig)"
      ]
    },
    {
      "cell_type": "code",
      "execution_count": null,
      "metadata": {
        "colab": {
          "base_uri": "https://localhost:8080/"
        },
        "id": "w6cBkFg8XN2R",
        "outputId": "45fe7f96-7439-401d-cc2e-88717fe3f3c4"
      },
      "outputs": [
        {
          "name": "stdout",
          "output_type": "stream",
          "text": [
            "Eigenvalues loaded from pickle file.\n"
          ]
        }
      ],
      "source": [
        "pickle_path = \"/content/drive/MyDrive/Miguel R - Thesis MSc/eigs_results.pkl\"\n",
        "\n",
        "# Check if the file already exists\n",
        "if os.path.exists(pickle_path):\n",
        "    # Load previously computed eigenvalues\n",
        "    with open(pickle_path, \"rb\") as f:\n",
        "        eigs = pickle.load(f)\n",
        "    print(\"Eigenvalues loaded from pickle file.\")\n",
        "else:\n",
        "    # Save eigenvalues to pickle for future use\n",
        "    with open(pickle_path, \"wb\") as f:\n",
        "        pickle.dump(eigs, f)\n",
        "\n",
        "    print(\"Eigenvalues computed and saved to pickle file.\")"
      ]
    },
    {
      "cell_type": "code",
      "execution_count": null,
      "metadata": {
        "colab": {
          "base_uri": "https://localhost:8080/",
          "height": 449
        },
        "id": "DHEMRKeDQq5l",
        "outputId": "f760d26a-beca-4a9e-fecb-a295d999cf44"
      },
      "outputs": [
        {
          "data": {
            "image/png": "[encoded data removed]",
            "text/plain": [
              "<Figure size 640x480 with 1 Axes>"
            ]
          },
          "metadata": {},
          "output_type": "display_data"
        }
      ],
      "source": [
        "exact_eig = min(eigs_H_eff).real\n",
        "plt.plot(eigs, color=\"red\", marker=\"x\", label=\"Estimated eigenvalue from QPE with Trotterization\")\n",
        "plt.xlabel(\"Trotter steps\")\n",
        "plt.ylabel(\"Estimated eigenvalue (Hartree)\")\n",
        "plt.axhline(y=exact_eig, color='b', linestyle='-', label='Exact eigenvalue')\n",
        "# plot chemical accuracy line\n",
        "\n",
        "chemical_accuracy = 1.6e-3 # Hartree\n",
        "plt.axhline(y=exact_eig + chemical_accuracy, color='g', linestyle='--', label='Chemical accuracy (1.6e-3 Hartree)')\n",
        "plt.axhline(y=exact_eig - chemical_accuracy, color='g', linestyle='--')\n",
        "plt.legend()\n",
        "plt.show()"
      ]
    },
    {
      "cell_type": "markdown",
      "metadata": {
        "id": "O2S0Jll7Qq5m"
      },
      "source": [
        "### Top results from QPE with the maximum Trotter steps"
      ]
    },
    {
      "cell_type": "markdown",
      "metadata": {
        "id": "F5nN1vksQq5m"
      },
      "source": [
        "Only top results with the 90% of the probability distribution"
      ]
    },
    {
      "cell_type": "code",
      "execution_count": null,
      "metadata": {
        "id": "PBXQfH8OQq5m"
      },
      "outputs": [],
      "source": [
        "if COMPUTE_WORKLOAD:\n",
        "    cumsum = np.cumsum([tup[1] for tup in results_ordered])\n",
        "    for i, s in enumerate(cumsum):\n",
        "        if s >= 0.9:\n",
        "            cumsum_i = i\n",
        "            print(i)\n",
        "            break\n",
        "\n",
        "    results_ordered = results_ordered[:cumsum_i + 1]\n",
        "    results_ordered.sort(key=lambda tup: tup[0])\n",
        "\n",
        "    plt.figure(figsize=(15, 8))\n",
        "    plt.bar([tup[0] for tup in results_ordered], [tup[1] for tup in results_ordered])\n",
        "    plt.xlabel(\"phase\")\n",
        "    plt.ylabel(\"probability\")\n",
        "    plt.xticks(rotation=\"vertical\")\n",
        "    plt.subplots_adjust(bottom=0.3)\n",
        "    plt.show()"
      ]
    },
    {
      "cell_type": "markdown",
      "metadata": {
        "id": "j-KbE2rPQq5m"
      },
      "source": [
        "### Energy surface with QPE"
      ]
    },
    {
      "cell_type": "code",
      "execution_count": 13,
      "metadata": {
        "id": "S4UvZ0TRe5WO"
      },
      "outputs": [],
      "source": [
        "ordering = [\"Z0\", \"Y0Y1\", \"Z1\", \"X0X1\"]"
      ]
    },
    {
      "cell_type": "code",
      "execution_count": 15,
      "metadata": {
        "colab": {
          "base_uri": "https://localhost:8080/"
        },
        "id": "Twi17J_JQq5m",
        "outputId": "116eb7f8-6924-42d6-e6bc-b4715496a4b7"
      },
      "outputs": [
        {
          "name": "stderr",
          "output_type": "stream",
          "text": [
            "100%|██████████| 54/54 [00:47<00:00,  1.13it/s]\n"
          ]
        }
      ],
      "source": [
        "trotter_steps = 10\n",
        "num_digits = 18\n",
        "\n",
        "retries = 1\n",
        "energy_surface_qpe = np.zeros((retries, len(coeffs_df)))\n",
        "\n",
        "random.seed(7)\n",
        "\n",
        "for idx, coeffs_row in tqdm(coeffs_df.iterrows(), total=len(coeffs_df)):\n",
        "    tau = coeffs_row[\"t0\"]\n",
        "    coeff = coeffs_row[[\"I\", \"Z0\", \"Z1\", \"Z0Z1\", \"Y0Y1\", \"X0X1\"]]\n",
        "\n",
        "    for k in range(retries):\n",
        "        results = circuit_qpe(\n",
        "            estimation_wires=range(num_digits),\n",
        "            q_register = [num_digits, num_digits+1],\n",
        "            state_prep = lambda wires: qml.X(wires[0]),\n",
        "            controlled_unitary = controlledHydrogenUnitary,\n",
        "            tau = tau,\n",
        "            trotter_steps = trotter_steps,\n",
        "            coeff = coeff,\n",
        "            add_ZZ = True,  # add controlled-RZZ term\n",
        "            ordering = random.sample(ordering, len(ordering)) #coeffs_row[\"ordering\"].split(\"·\")\n",
        "        )\n",
        "\n",
        "        max_prob_result = results.argmax()\n",
        "        max_prob_result_binary = f\"{max_prob_result:0{num_digits}b}\"\n",
        "        phase = binary_string_to_decimal(max_prob_result_binary)\n",
        "        estimated_eig = -2*np.pi*phase/tau + coeffs_row[\"I\"]\n",
        "\n",
        "        energy_surface_qpe[k, idx] = estimated_eig\n"
      ]
    },
    {
      "cell_type": "code",
      "execution_count": null,
      "metadata": {
        "colab": {
          "base_uri": "https://localhost:8080/"
        },
        "id": "hARmXA79bz_w",
        "outputId": "7c8ffdc3-5210-4bb9-a932-2c8f7a819f88"
      },
      "outputs": [
        {
          "name": "stdout",
          "output_type": "stream",
          "text": [
            "Energy surface QPE computed and saved to pickle file.\n"
          ]
        }
      ],
      "source": [
        "# prompt: save also the energy_surface_qpe data in a pickle file, the same way I did for the eigs variable\n",
        "\n",
        "pickle_path_qpe = \"/content/drive/MyDrive/Miguel R - Thesis MSc/energy_surface_qpe.pkl\"\n",
        "\n",
        "# Check if the file already exists\n",
        "if os.path.exists(pickle_path_qpe):\n",
        "    # Load previously computed energy surface\n",
        "    with open(pickle_path_qpe, \"rb\") as f:\n",
        "        energy_surface_qpe = pickle.load(f)\n",
        "    print(\"Energy surface QPE loaded from pickle file.\")\n",
        "else:\n",
        "    # Save energy surface QPE to pickle for future use\n",
        "    with open(pickle_path_qpe, \"wb\") as f:\n",
        "        pickle.dump(energy_surface_qpe, f)\n",
        "\n",
        "    print(\"Energy surface QPE computed and saved to pickle file.\")"
      ]
    },
    {
      "cell_type": "code",
      "execution_count": 17,
      "metadata": {
        "colab": {
          "base_uri": "https://localhost:8080/"
        },
        "id": "afdHiZRKllBO",
        "outputId": "51c67129-f06d-46f4-b288-78ae713ac9c7"
      },
      "outputs": [
        {
          "data": {
            "text/plain": [
              "array([-1.42492976, -1.40158   , -1.35945478, -1.3404246 , -1.30650457,\n",
              "       -1.24179828, -1.18421584, -1.16671926, -1.16146412, -1.15206627,\n",
              "       -1.14765032, -1.14356074, -1.13966424, -1.1286725 ])"
            ]
          },
          "execution_count": 17,
          "metadata": {},
          "output_type": "execute_result"
        }
      ],
      "source": [
        "outliers = (energy_surface - energy_surface_qpe[0]).__abs__() > 0.3\n",
        "energy_surface[outliers]"
      ]
    },
    {
      "cell_type": "code",
      "execution_count": 21,
      "metadata": {
        "colab": {
          "base_uri": "https://localhost:8080/",
          "height": 449
        },
        "id": "ZGigwrK-Qq5n",
        "outputId": "5d985b26-7151-4fc9-8b12-e6b2588fcaf9"
      },
      "outputs": [
        {
          "data": {
            "image/png": "[encoded data removed]",
            "text/plain": [
              "<Figure size 640x480 with 1 Axes>"
            ]
          },
          "metadata": {},
          "output_type": "display_data"
        }
      ],
      "source": [
        "plt.plot(coeffs_df[\"nuclear_dist\"], energy_surface, marker=\"o\", label=\"Exact energy Surface\")\n",
        "for k in range(retries):\n",
        "    plt.plot(coeffs_df[\"nuclear_dist\"], energy_surface_qpe[k], marker=\"x\", label=f\"Energy Surface from QPE with Trotterization (retry {k+1})\")\n",
        "\n",
        "#plt.plot(coeffs_df[\"nuclear_dist\"], energy_surface_qpe, marker=\"x\", label=\"Energy Surface from QPE with Trotterization\")\n",
        "plt.xlabel(\"Internuclear Distance R (a.u.)\")\n",
        "plt.ylabel(\"Total energy (Hartree)\")\n",
        "#plt.legend()\n",
        "plt.show()"
      ]
    },
    {
      "cell_type": "code",
      "execution_count": 19,
      "metadata": {
        "colab": {
          "base_uri": "https://localhost:8080/",
          "height": 489
        },
        "id": "j2Wkt4n6LqXW",
        "outputId": "86b3b896-3dd1-4431-a619-9d1f21e43e95"
      },
      "outputs": [
        {
          "data": {
            "application/vnd.google.colaboratory.intrinsic+json": {
              "summary": "{\n  \"name\": \"coeffs_df\",\n  \"rows\": 14,\n  \"fields\": [\n    {\n      \"column\": \"nuclear_dist\",\n      \"properties\": {\n        \"dtype\": \"number\",\n        \"std\": 0.5448056413191652,\n        \"min\": 1.35,\n        \"max\": 2.85,\n        \"num_unique_values\": 14,\n        \"samples\": [\n          2.55,\n          2.65,\n          1.35\n        ],\n        \"semantic_type\": \"\",\n        \"description\": \"\"\n      }\n    },\n    {\n      \"column\": \"I\",\n      \"properties\": {\n        \"dtype\": \"number\",\n        \"std\": 0.02788132621753047,\n        \"min\": -0.5707,\n        \"max\": -0.4992,\n        \"num_unique_values\": 14,\n        \"samples\": [\n          -0.5141,\n          -0.5089,\n          -0.5706\n        ],\n        \"semantic_type\": \"\",\n        \"description\": \"\"\n      }\n    },\n    {\n      \"column\": \"Z0\",\n      \"properties\": {\n        \"dtype\": \"number\",\n        \"std\": 0.042449621078053563,\n        \"min\": 0.0984,\n        \"max\": 0.2123,\n        \"num_unique_values\": 14,\n        \"samples\": [\n          0.1078,\n          0.1042,\n          0.2123\n        ],\n        \"semantic_type\": \"\",\n        \"description\": \"\"\n      }\n    },\n    {\n      \"column\": \"Z1\",\n      \"properties\": {\n        \"dtype\": \"number\",\n        \"std\": 0.06451310498097045,\n        \"min\": -0.1077,\n        \"max\": 0.0679,\n        \"num_unique_values\": 14,\n        \"samples\": [\n          0.0572,\n          0.0614,\n          -0.1077\n        ],\n        \"semantic_type\": \"\",\n        \"description\": \"\"\n      }\n    },\n    {\n      \"column\": \"Z0Z1\",\n      \"properties\": {\n        \"dtype\": \"number\",\n        \"std\": 0.049098188234517254,\n        \"min\": 0.3329,\n        \"max\": 0.466,\n        \"num_unique_values\": 14,\n        \"samples\": [\n          0.3491,\n          0.3433,\n          0.466\n        ],\n        \"semantic_type\": \"\",\n        \"description\": \"\"\n      }\n    },\n    {\n      \"column\": \"X0X1\",\n      \"properties\": {\n        \"dtype\": \"number\",\n        \"std\": 0.013928966182064583,\n        \"min\": 0.11,\n        \"max\": 0.1475,\n        \"num_unique_values\": 14,\n        \"samples\": [\n          0.1422,\n          0.1441,\n          0.11\n        ],\n        \"semantic_type\": \"\",\n        \"description\": \"\"\n      }\n    },\n    {\n      \"column\": \"Y0Y1\",\n      \"properties\": {\n        \"dtype\": \"number\",\n        \"std\": 0.013928966182064583,\n        \"min\": 0.11,\n        \"max\": 0.1475,\n        \"num_unique_values\": 14,\n        \"samples\": [\n          0.1422,\n          0.1441,\n          0.11\n        ],\n        \"semantic_type\": \"\",\n        \"description\": \"\"\n      }\n    },\n    {\n      \"column\": \"t0\",\n      \"properties\": {\n        \"dtype\": \"number\",\n        \"std\": 3.5924808532988286,\n        \"min\": 0.4,\n        \"max\": 11.5,\n        \"num_unique_values\": 13,\n        \"samples\": [\n          0.4,\n          11.0,\n          9.81\n        ],\n        \"semantic_type\": \"\",\n        \"description\": \"\"\n      }\n    },\n    {\n      \"column\": \"ordering\",\n      \"properties\": {\n        \"dtype\": \"string\",\n        \"num_unique_values\": 9,\n        \"samples\": [\n          \"Z1\\u00b7X0X1\\u00b7Y0Y1\\u00b7Z0\",\n          \"Z1\\u00b7X0X1\\u00b7Z0\\u00b7Y0Y1\",\n          \"Z0\\u00b7Z1\\u00b7X0X1\\u00b7Y0Y1\"\n        ],\n        \"semantic_type\": \"\",\n        \"description\": \"\"\n      }\n    },\n    {\n      \"column\": \"trotter_error\",\n      \"properties\": {\n        \"dtype\": \"number\",\n        \"std\": 0.025844344929503726,\n        \"min\": 0.0017,\n        \"max\": 0.0946,\n        \"num_unique_values\": 14,\n        \"samples\": [\n          0.055,\n          0.049,\n          0.0694\n        ],\n        \"semantic_type\": \"\",\n        \"description\": \"\"\n      }\n    }\n  ]\n}",
              "type": "dataframe"
            },
            "text/html": [
              "\n",
              "  <div id=\"df-fe9d9b72-4406-4881-bcdd-eefa7825f9af\" class=\"colab-df-container\">\n",
              "    <div>\n",
              "<style scoped>\n",
              "    .dataframe tbody tr th:only-of-type {\n",
              "        vertical-align: middle;\n",
              "    }\n",
              "\n",
              "    .dataframe tbody tr th {\n",
              "        vertical-align: top;\n",
              "    }\n",
              "\n",
              "    .dataframe thead th {\n",
              "        text-align: right;\n",
              "    }\n",
              "</style>\n",
              "<table border=\"1\" class=\"dataframe\">\n",
              "  <thead>\n",
              "    <tr style=\"text-align: right;\">\n",
              "      <th></th>\n",
              "      <th>nuclear_dist</th>\n",
              "      <th>I</th>\n",
              "      <th>Z0</th>\n",
              "      <th>Z1</th>\n",
              "      <th>Z0Z1</th>\n",
              "      <th>X0X1</th>\n",
              "      <th>Y0Y1</th>\n",
              "      <th>t0</th>\n",
              "      <th>ordering</th>\n",
              "      <th>trotter_error</th>\n",
              "    </tr>\n",
              "  </thead>\n",
              "  <tbody>\n",
              "    <tr>\n",
              "      <th>23</th>\n",
              "      <td>1.35</td>\n",
              "      <td>-0.5706</td>\n",
              "      <td>0.2123</td>\n",
              "      <td>-0.1077</td>\n",
              "      <td>0.4660</td>\n",
              "      <td>0.1100</td>\n",
              "      <td>0.1100</td>\n",
              "      <td>9.81</td>\n",
              "      <td>Z0·X0X1·Z1·Y0Y1</td>\n",
              "      <td>0.0694</td>\n",
              "    </tr>\n",
              "    <tr>\n",
              "      <th>24</th>\n",
              "      <td>1.40</td>\n",
              "      <td>-0.5707</td>\n",
              "      <td>0.2048</td>\n",
              "      <td>-0.0929</td>\n",
              "      <td>0.4588</td>\n",
              "      <td>0.1116</td>\n",
              "      <td>0.1116</td>\n",
              "      <td>9.93</td>\n",
              "      <td>Z0·X0X1·Z1·Y0Y1</td>\n",
              "      <td>0.0755</td>\n",
              "    </tr>\n",
              "    <tr>\n",
              "      <th>26</th>\n",
              "      <td>1.50</td>\n",
              "      <td>-0.5693</td>\n",
              "      <td>0.1908</td>\n",
              "      <td>-0.0666</td>\n",
              "      <td>0.4451</td>\n",
              "      <td>0.1149</td>\n",
              "      <td>0.1149</td>\n",
              "      <td>10.20</td>\n",
              "      <td>Z1·X0X1·Z0·Y0Y1</td>\n",
              "      <td>0.0885</td>\n",
              "    </tr>\n",
              "    <tr>\n",
              "      <th>27</th>\n",
              "      <td>1.55</td>\n",
              "      <td>-0.5679</td>\n",
              "      <td>0.1843</td>\n",
              "      <td>-0.0549</td>\n",
              "      <td>0.4386</td>\n",
              "      <td>0.1165</td>\n",
              "      <td>0.1165</td>\n",
              "      <td>9.83</td>\n",
              "      <td>Z0·X0X1·Z1·Y0Y1</td>\n",
              "      <td>0.0917</td>\n",
              "    </tr>\n",
              "    <tr>\n",
              "      <th>29</th>\n",
              "      <td>1.65</td>\n",
              "      <td>-0.5643</td>\n",
              "      <td>0.1723</td>\n",
              "      <td>-0.0342</td>\n",
              "      <td>0.4262</td>\n",
              "      <td>0.1196</td>\n",
              "      <td>0.1196</td>\n",
              "      <td>8.24</td>\n",
              "      <td>X0X1·Z0·Y0Y1·Z1</td>\n",
              "      <td>0.0488</td>\n",
              "    </tr>\n",
              "    <tr>\n",
              "      <th>34</th>\n",
              "      <td>1.90</td>\n",
              "      <td>-0.5516</td>\n",
              "      <td>0.1472</td>\n",
              "      <td>0.0052</td>\n",
              "      <td>0.3992</td>\n",
              "      <td>0.1270</td>\n",
              "      <td>0.1270</td>\n",
              "      <td>1.09</td>\n",
              "      <td>X0X1·Z0·Z1·Y0Y1</td>\n",
              "      <td>0.0017</td>\n",
              "    </tr>\n",
              "    <tr>\n",
              "      <th>41</th>\n",
              "      <td>2.25</td>\n",
              "      <td>-0.5310</td>\n",
              "      <td>0.1221</td>\n",
              "      <td>0.0397</td>\n",
              "      <td>0.3692</td>\n",
              "      <td>0.1359</td>\n",
              "      <td>0.1359</td>\n",
              "      <td>11.50</td>\n",
              "      <td>X0X1·Z1·Z0·Y0Y1</td>\n",
              "      <td>0.0946</td>\n",
              "    </tr>\n",
              "    <tr>\n",
              "      <th>44</th>\n",
              "      <td>2.40</td>\n",
              "      <td>-0.5223</td>\n",
              "      <td>0.1142</td>\n",
              "      <td>0.0495</td>\n",
              "      <td>0.3586</td>\n",
              "      <td>0.1392</td>\n",
              "      <td>0.1392</td>\n",
              "      <td>10.10</td>\n",
              "      <td>X0X1·Z1·Z0·Y0Y1</td>\n",
              "      <td>0.0334</td>\n",
              "    </tr>\n",
              "    <tr>\n",
              "      <th>45</th>\n",
              "      <td>2.45</td>\n",
              "      <td>-0.5195</td>\n",
              "      <td>0.1119</td>\n",
              "      <td>0.0523</td>\n",
              "      <td>0.3553</td>\n",
              "      <td>0.1402</td>\n",
              "      <td>0.1402</td>\n",
              "      <td>11.20</td>\n",
              "      <td>Z0·Z1·X0X1·Y0Y1</td>\n",
              "      <td>0.0663</td>\n",
              "    </tr>\n",
              "    <tr>\n",
              "      <th>47</th>\n",
              "      <td>2.55</td>\n",
              "      <td>-0.5141</td>\n",
              "      <td>0.1078</td>\n",
              "      <td>0.0572</td>\n",
              "      <td>0.3491</td>\n",
              "      <td>0.1422</td>\n",
              "      <td>0.1422</td>\n",
              "      <td>11.00</td>\n",
              "      <td>Z0·Z1·X0X1·Y0Y1</td>\n",
              "      <td>0.0550</td>\n",
              "    </tr>\n",
              "    <tr>\n",
              "      <th>48</th>\n",
              "      <td>2.60</td>\n",
              "      <td>-0.5114</td>\n",
              "      <td>0.1059</td>\n",
              "      <td>0.0594</td>\n",
              "      <td>0.3461</td>\n",
              "      <td>0.1432</td>\n",
              "      <td>0.1432</td>\n",
              "      <td>11.00</td>\n",
              "      <td>Z0·X0X1·Y0Y1·Z1</td>\n",
              "      <td>0.0507</td>\n",
              "    </tr>\n",
              "    <tr>\n",
              "      <th>49</th>\n",
              "      <td>2.65</td>\n",
              "      <td>-0.5089</td>\n",
              "      <td>0.1042</td>\n",
              "      <td>0.0614</td>\n",
              "      <td>0.3433</td>\n",
              "      <td>0.1441</td>\n",
              "      <td>0.1441</td>\n",
              "      <td>11.04</td>\n",
              "      <td>Z1·X0X1·Y0Y1·Z0</td>\n",
              "      <td>0.0490</td>\n",
              "    </tr>\n",
              "    <tr>\n",
              "      <th>50</th>\n",
              "      <td>2.70</td>\n",
              "      <td>-0.5064</td>\n",
              "      <td>0.1026</td>\n",
              "      <td>0.0632</td>\n",
              "      <td>0.3406</td>\n",
              "      <td>0.1450</td>\n",
              "      <td>0.1450</td>\n",
              "      <td>0.40</td>\n",
              "      <td>Z0·Z1·Y0Y1·X0X1</td>\n",
              "      <td>0.0471</td>\n",
              "    </tr>\n",
              "    <tr>\n",
              "      <th>53</th>\n",
              "      <td>2.85</td>\n",
              "      <td>-0.4992</td>\n",
              "      <td>0.0984</td>\n",
              "      <td>0.0679</td>\n",
              "      <td>0.3329</td>\n",
              "      <td>0.1475</td>\n",
              "      <td>0.1475</td>\n",
              "      <td>10.60</td>\n",
              "      <td>Z0·X0X1·Y0Y1·Z1</td>\n",
              "      <td>0.0324</td>\n",
              "    </tr>\n",
              "  </tbody>\n",
              "</table>\n",
              "</div>\n",
              "    <div class=\"colab-df-buttons\">\n",
              "\n",
              "  <div class=\"colab-df-container\">\n",
              "    <button class=\"colab-df-convert\" onclick=\"convertToInteractive('df-fe9d9b72-4406-4881-bcdd-eefa7825f9af')\"\n",
              "            title=\"Convert this dataframe to an interactive table.\"\n",
              "            style=\"display:none;\">\n",
              "\n",
              "  <svg xmlns=\"http://www.w3.org/2000/svg\" height=\"24px\" viewBox=\"0 -960 960 960\">\n",
              "    <path d=\"M120-120v-720h720v720H120Zm60-500h600v-160H180v160Zm220 220h160v-160H400v160Zm0 220h160v-160H400v160ZM180-400h160v-160H180v160Zm440 0h160v-160H620v160ZM180-180h160v-160H180v160Zm440 0h160v-160H620v160Z\"/>\n",
              "  </svg>\n",
              "    </button>\n",
              "\n",
              "  <style>\n",
              "    .colab-df-container {\n",
              "      display:flex;\n",
              "      gap: 12px;\n",
              "    }\n",
              "\n",
              "    .colab-df-convert {\n",
              "      background-color: #E8F0FE;\n",
              "      border: none;\n",
              "      border-radius: 50%;\n",
              "      cursor: pointer;\n",
              "      display: none;\n",
              "      fill: #1967D2;\n",
              "      height: 32px;\n",
              "      padding: 0 0 0 0;\n",
              "      width: 32px;\n",
              "    }\n",
              "\n",
              "    .colab-df-convert:hover {\n",
              "      background-color: #E2EBFA;\n",
              "      box-shadow: 0px 1px 2px rgba(60, 64, 67, 0.3), 0px 1px 3px 1px rgba(60, 64, 67, 0.15);\n",
              "      fill: #174EA6;\n",
              "    }\n",
              "\n",
              "    .colab-df-buttons div {\n",
              "      margin-bottom: 4px;\n",
              "    }\n",
              "\n",
              "    [theme=dark] .colab-df-convert {\n",
              "      background-color: #3B4455;\n",
              "      fill: #D2E3FC;\n",
              "    }\n",
              "\n",
              "    [theme=dark] .colab-df-convert:hover {\n",
              "      background-color: #434B5C;\n",
              "      box-shadow: 0px 1px 3px 1px rgba(0, 0, 0, 0.15);\n",
              "      filter: drop-shadow(0px 1px 2px rgba(0, 0, 0, 0.3));\n",
              "      fill: #FFFFFF;\n",
              "    }\n",
              "  </style>\n",
              "\n",
              "    <script>\n",
              "      const buttonEl =\n",
              "        document.querySelector('#df-fe9d9b72-4406-4881-bcdd-eefa7825f9af button.colab-df-convert');\n",
              "      buttonEl.style.display =\n",
              "        google.colab.kernel.accessAllowed ? 'block' : 'none';\n",
              "\n",
              "      async function convertToInteractive(key) {\n",
              "        const element = document.querySelector('#df-fe9d9b72-4406-4881-bcdd-eefa7825f9af');\n",
              "        const dataTable =\n",
              "          await google.colab.kernel.invokeFunction('convertToInteractive',\n",
              "                                                    [key], {});\n",
              "        if (!dataTable) return;\n",
              "\n",
              "        const docLinkHtml = 'Like what you see? Visit the ' +\n",
              "          '<a target=\"_blank\" href=https://colab.research.google.com/notebooks/data_table.ipynb>data table notebook</a>'\n",
              "          + ' to learn more about interactive tables.';\n",
              "        element.innerHTML = '';\n",
              "        dataTable['output_type'] = 'display_data';\n",
              "        await google.colab.output.renderOutput(dataTable, element);\n",
              "        const docLink = document.createElement('div');\n",
              "        docLink.innerHTML = docLinkHtml;\n",
              "        element.appendChild(docLink);\n",
              "      }\n",
              "    </script>\n",
              "  </div>\n",
              "\n",
              "\n",
              "    <div id=\"df-725cf2e0-88a9-4cb6-93ff-2451fe5a060b\">\n",
              "      <button class=\"colab-df-quickchart\" onclick=\"quickchart('df-725cf2e0-88a9-4cb6-93ff-2451fe5a060b')\"\n",
              "                title=\"Suggest charts\"\n",
              "                style=\"display:none;\">\n",
              "\n",
              "<svg xmlns=\"http://www.w3.org/2000/svg\" height=\"24px\"viewBox=\"0 0 24 24\"\n",
              "     width=\"24px\">\n",
              "    <g>\n",
              "        <path d=\"M19 3H5c-1.1 0-2 .9-2 2v14c0 1.1.9 2 2 2h14c1.1 0 2-.9 2-2V5c0-1.1-.9-2-2-2zM9 17H7v-7h2v7zm4 0h-2V7h2v10zm4 0h-2v-4h2v4z\"/>\n",
              "    </g>\n",
              "</svg>\n",
              "      </button>\n",
              "\n",
              "<style>\n",
              "  .colab-df-quickchart {\n",
              "      --bg-color: #E8F0FE;\n",
              "      --fill-color: #1967D2;\n",
              "      --hover-bg-color: #E2EBFA;\n",
              "      --hover-fill-color: #174EA6;\n",
              "      --disabled-fill-color: #AAA;\n",
              "      --disabled-bg-color: #DDD;\n",
              "  }\n",
              "\n",
              "  [theme=dark] .colab-df-quickchart {\n",
              "      --bg-color: #3B4455;\n",
              "      --fill-color: #D2E3FC;\n",
              "      --hover-bg-color: #434B5C;\n",
              "      --hover-fill-color: #FFFFFF;\n",
              "      --disabled-bg-color: #3B4455;\n",
              "      --disabled-fill-color: #666;\n",
              "  }\n",
              "\n",
              "  .colab-df-quickchart {\n",
              "    background-color: var(--bg-color);\n",
              "    border: none;\n",
              "    border-radius: 50%;\n",
              "    cursor: pointer;\n",
              "    display: none;\n",
              "    fill: var(--fill-color);\n",
              "    height: 32px;\n",
              "    padding: 0;\n",
              "    width: 32px;\n",
              "  }\n",
              "\n",
              "  .colab-df-quickchart:hover {\n",
              "    background-color: var(--hover-bg-color);\n",
              "    box-shadow: 0 1px 2px rgba(60, 64, 67, 0.3), 0 1px 3px 1px rgba(60, 64, 67, 0.15);\n",
              "    fill: var(--button-hover-fill-color);\n",
              "  }\n",
              "\n",
              "  .colab-df-quickchart-complete:disabled,\n",
              "  .colab-df-quickchart-complete:disabled:hover {\n",
              "    background-color: var(--disabled-bg-color);\n",
              "    fill: var(--disabled-fill-color);\n",
              "    box-shadow: none;\n",
              "  }\n",
              "\n",
              "  .colab-df-spinner {\n",
              "    border: 2px solid var(--fill-color);\n",
              "    border-color: transparent;\n",
              "    border-bottom-color: var(--fill-color);\n",
              "    animation:\n",
              "      spin 1s steps(1) infinite;\n",
              "  }\n",
              "\n",
              "  @keyframes spin {\n",
              "    0% {\n",
              "      border-color: transparent;\n",
              "      border-bottom-color: var(--fill-color);\n",
              "      border-left-color: var(--fill-color);\n",
              "    }\n",
              "    20% {\n",
              "      border-color: transparent;\n",
              "      border-left-color: var(--fill-color);\n",
              "      border-top-color: var(--fill-color);\n",
              "    }\n",
              "    30% {\n",
              "      border-color: transparent;\n",
              "      border-left-color: var(--fill-color);\n",
              "      border-top-color: var(--fill-color);\n",
              "      border-right-color: var(--fill-color);\n",
              "    }\n",
              "    40% {\n",
              "      border-color: transparent;\n",
              "      border-right-color: var(--fill-color);\n",
              "      border-top-color: var(--fill-color);\n",
              "    }\n",
              "    60% {\n",
              "      border-color: transparent;\n",
              "      border-right-color: var(--fill-color);\n",
              "    }\n",
              "    80% {\n",
              "      border-color: transparent;\n",
              "      border-right-color: var(--fill-color);\n",
              "      border-bottom-color: var(--fill-color);\n",
              "    }\n",
              "    90% {\n",
              "      border-color: transparent;\n",
              "      border-bottom-color: var(--fill-color);\n",
              "    }\n",
              "  }\n",
              "</style>\n",
              "\n",
              "      <script>\n",
              "        async function quickchart(key) {\n",
              "          const quickchartButtonEl =\n",
              "            document.querySelector('#' + key + ' button');\n",
              "          quickchartButtonEl.disabled = true;  // To prevent multiple clicks.\n",
              "          quickchartButtonEl.classList.add('colab-df-spinner');\n",
              "          try {\n",
              "            const charts = await google.colab.kernel.invokeFunction(\n",
              "                'suggestCharts', [key], {});\n",
              "          } catch (error) {\n",
              "            console.error('Error during call to suggestCharts:', error);\n",
              "          }\n",
              "          quickchartButtonEl.classList.remove('colab-df-spinner');\n",
              "          quickchartButtonEl.classList.add('colab-df-quickchart-complete');\n",
              "        }\n",
              "        (() => {\n",
              "          let quickchartButtonEl =\n",
              "            document.querySelector('#df-725cf2e0-88a9-4cb6-93ff-2451fe5a060b button');\n",
              "          quickchartButtonEl.style.display =\n",
              "            google.colab.kernel.accessAllowed ? 'block' : 'none';\n",
              "        })();\n",
              "      </script>\n",
              "    </div>\n",
              "\n",
              "    </div>\n",
              "  </div>\n"
            ],
            "text/plain": [
              "    nuclear_dist       I      Z0      Z1    Z0Z1    X0X1    Y0Y1     t0  \\\n",
              "23          1.35 -0.5706  0.2123 -0.1077  0.4660  0.1100  0.1100   9.81   \n",
              "24          1.40 -0.5707  0.2048 -0.0929  0.4588  0.1116  0.1116   9.93   \n",
              "26          1.50 -0.5693  0.1908 -0.0666  0.4451  0.1149  0.1149  10.20   \n",
              "27          1.55 -0.5679  0.1843 -0.0549  0.4386  0.1165  0.1165   9.83   \n",
              "29          1.65 -0.5643  0.1723 -0.0342  0.4262  0.1196  0.1196   8.24   \n",
              "34          1.90 -0.5516  0.1472  0.0052  0.3992  0.1270  0.1270   1.09   \n",
              "41          2.25 -0.5310  0.1221  0.0397  0.3692  0.1359  0.1359  11.50   \n",
              "44          2.40 -0.5223  0.1142  0.0495  0.3586  0.1392  0.1392  10.10   \n",
              "45          2.45 -0.5195  0.1119  0.0523  0.3553  0.1402  0.1402  11.20   \n",
              "47          2.55 -0.5141  0.1078  0.0572  0.3491  0.1422  0.1422  11.00   \n",
              "48          2.60 -0.5114  0.1059  0.0594  0.3461  0.1432  0.1432  11.00   \n",
              "49          2.65 -0.5089  0.1042  0.0614  0.3433  0.1441  0.1441  11.04   \n",
              "50          2.70 -0.5064  0.1026  0.0632  0.3406  0.1450  0.1450   0.40   \n",
              "53          2.85 -0.4992  0.0984  0.0679  0.3329  0.1475  0.1475  10.60   \n",
              "\n",
              "           ordering  trotter_error  \n",
              "23  Z0·X0X1·Z1·Y0Y1         0.0694  \n",
              "24  Z0·X0X1·Z1·Y0Y1         0.0755  \n",
              "26  Z1·X0X1·Z0·Y0Y1         0.0885  \n",
              "27  Z0·X0X1·Z1·Y0Y1         0.0917  \n",
              "29  X0X1·Z0·Y0Y1·Z1         0.0488  \n",
              "34  X0X1·Z0·Z1·Y0Y1         0.0017  \n",
              "41  X0X1·Z1·Z0·Y0Y1         0.0946  \n",
              "44  X0X1·Z1·Z0·Y0Y1         0.0334  \n",
              "45  Z0·Z1·X0X1·Y0Y1         0.0663  \n",
              "47  Z0·Z1·X0X1·Y0Y1         0.0550  \n",
              "48  Z0·X0X1·Y0Y1·Z1         0.0507  \n",
              "49  Z1·X0X1·Y0Y1·Z0         0.0490  \n",
              "50  Z0·Z1·Y0Y1·X0X1         0.0471  \n",
              "53  Z0·X0X1·Y0Y1·Z1         0.0324  "
            ]
          },
          "execution_count": 19,
          "metadata": {},
          "output_type": "execute_result"
        }
      ],
      "source": [
        "coeffs_df.iloc[outliers]"
      ]
    },
    {
      "cell_type": "code",
      "execution_count": 22,
      "metadata": {
        "colab": {
          "base_uri": "https://localhost:8080/",
          "height": 449
        },
        "id": "byC80YWqkwPI",
        "outputId": "0bc92a29-b86d-41fe-e8f6-cfacdddb5078"
      },
      "outputs": [
        {
          "data": {
            "image/png": "[encoded data removed]",
            "text/plain": [
              "<Figure size 640x480 with 1 Axes>"
            ]
          },
          "metadata": {},
          "output_type": "display_data"
        }
      ],
      "source": [
        "plt.plot(coeffs_df[\"nuclear_dist\"], energy_surface, marker=\"o\", label=\"Exact energy Surface\")\n",
        "plt.plot(coeffs_df[\"nuclear_dist\"], energy_surface_qpe.min(axis=0), marker=\"x\", label=f\"Energy Surface from QPE with Trotterization (retry {k+1})\")\n",
        "\n",
        "#plt.plot(coeffs_df[\"nuclear_dist\"], energy_surface_qpe, marker=\"x\", label=\"Energy Surface from QPE with Trotterization\")\n",
        "plt.xlabel(\"Internuclear Distance R (a.u.)\")\n",
        "plt.ylabel(\"Total energy (Hartree)\")\n",
        "#plt.legend()\n",
        "plt.show()"
      ]
    },
    {
      "cell_type": "markdown",
      "metadata": {
        "id": "v79FOsMDQq5n"
      },
      "source": [
        "## Relation between the 4-qubit Hamiltonian and the 2-qubit Hamiltonian"
      ]
    },
    {
      "cell_type": "markdown",
      "metadata": {
        "id": "XQFv1A1vQq5n"
      },
      "source": [
        "Verification that the minimum eigenvalue of the 4-qubit Hamiltonian is the same as the 2-qubit Hamiltonian (in progress)"
      ]
    },
    {
      "cell_type": "code",
      "execution_count": null,
      "metadata": {
        "id": "xufiimGVQq5n"
      },
      "outputs": [],
      "source": [
        "def kron4(a: np.ndarray, b: np.ndarray, c: np.ndarray, d: np.ndarray) -> np.ndarray:\n",
        "    # Tensor product of four matrices\n",
        "    return np.kron(np.kron(np.kron(a, b), c), d)\n",
        "\n",
        "def construct_H_complete(coeff: list[float]) -> np.ndarray:\n",
        "    # Pauli matrices and the identity matrix\n",
        "    X = np.array([[0, 1], [1, 0]], dtype=complex)\n",
        "    Y = np.array([[0, -1j], [1j, 0]], dtype=complex)\n",
        "    Z = np.array([[1, 0], [0, -1]], dtype=complex)\n",
        "    I = np.eye(2, dtype=complex)\n",
        "\n",
        "    H = np.zeros((16, 16), dtype=complex)\n",
        "\n",
        "    H += coeff[0] * kron4(I, I, I, I)\n",
        "    H += coeff[1] * kron4(Z, I, I, I)\n",
        "    H += coeff[2] * kron4(I, Z, I, I)\n",
        "    H += coeff[3] * kron4(I, I, Z, I)\n",
        "    H += coeff[1] * kron4(Z, Z, I, I)\n",
        "    H += coeff[4] * kron4(Z, I, Z, I)\n",
        "    H += coeff[5] * kron4(I, Z, I, Z)\n",
        "    H += coeff[6] * kron4(X, Z, X, I)\n",
        "    H += coeff[6] * kron4(Y, Z, Y, I)\n",
        "    H += coeff[7] * kron4(Z, Z, Z, I)\n",
        "    H += coeff[4] * kron4(Z, I, Z, Z)\n",
        "    H += coeff[3] * kron4(I, Z, Z, Z)\n",
        "    H += coeff[6] * kron4(X, Z, X, Z)\n",
        "    H += coeff[6] * kron4(Y, Z, Y, Z)\n",
        "    H += coeff[7] * kron4(Z, Z, Z, Z)\n",
        "\n",
        "    return H"
      ]
    },
    {
      "cell_type": "code",
      "execution_count": null,
      "metadata": {
        "id": "RNiPqryhQq5o",
        "outputId": "e798178f-2a40-4835-ce38-5498462a4c9c"
      },
      "outputs": [
        {
          "data": {
            "text/plain": [
              "array([-0.5234405,  0.513603 , -0.445593 ,  0.4330455,  0.3486985,\n",
              "        0.3486985])"
            ]
          },
          "metadata": {},
          "output_type": "display_data"
        }
      ],
      "source": [
        "coeff_fs = [\n",
        "    -0.81261, 0.171201, 0.16862325, -0.2227965, 0.171201,\n",
        "    0.12054625, 0.17434925, 0.04532175, 0.04532175,\n",
        "    0.165868, 0.12054625, -0.2227965,\n",
        "    0.04532175, 0.04532175, 0.165868\n",
        "    ]\n",
        "coeff_gs = np.zeros(6)\n",
        "\n",
        "coeff_gs[0] = coeff_fs[0] + coeff_fs[2] + coeff_fs[5]\n",
        "coeff_gs[1] = 2*coeff_fs[1] + coeff_fs[4]\n",
        "coeff_gs[2] = 2*coeff_fs[3]\n",
        "coeff_gs[3] = 2*(coeff_fs[4] + coeff_fs[7])\n",
        "coeff_gs[4] = 2*coeff_fs[6]\n",
        "coeff_gs[5] = 2*coeff_fs[6]\n",
        "coeff_gs"
      ]
    },
    {
      "cell_type": "code",
      "execution_count": null,
      "metadata": {
        "id": "ScdtlNt8Qq5o"
      },
      "outputs": [],
      "source": [
        "coeff_fs = np.random.rand(8)\n",
        "coeff_gs = np.zeros(6)\n",
        "\n",
        "coeff_gs[0] = coeff_fs[0] + coeff_fs[2] + coeff_fs[5]\n",
        "coeff_gs[1] = 2*coeff_fs[1] + coeff_fs[4]\n",
        "coeff_gs[2] = 2*coeff_fs[3]\n",
        "coeff_gs[3] = 2*(coeff_fs[4] + coeff_fs[7])\n",
        "coeff_gs[4] = 2*coeff_fs[6]\n",
        "coeff_gs[5] = 2*coeff_fs[6]"
      ]
    },
    {
      "cell_type": "code",
      "execution_count": null,
      "metadata": {
        "id": "twFAO0A6Qq5o"
      },
      "outputs": [],
      "source": [
        "H_complete = construct_H_complete(coeff_fs)\n",
        "H_reduced = construct_hamiltonian(coeff_gs)"
      ]
    },
    {
      "cell_type": "code",
      "execution_count": null,
      "metadata": {
        "id": "QByY46GUQq5o",
        "outputId": "286a36ac-4f41-4cad-93b1-74b14fc16975"
      },
      "outputs": [
        {
          "name": "stdout",
          "output_type": "stream",
          "text": [
            "Eigenvalues of 2-qubit Hamiltonian: [-2.14241161+0.j  0.22943961+0.j -0.022385  +0.j -0.158405  +0.j]\n",
            "Eigenvalues of 4-qubit Hamiltonian: [-0.656141  -2.46519033e-32j -2.050935  +6.16297582e-33j\n",
            "  0.09579661+0.00000000e+00j -2.00876861+0.00000000e+00j\n",
            " -0.193586  +0.00000000e+00j -0.422131  +0.00000000e+00j\n",
            " -0.422131  +0.00000000e+00j -0.850021  +0.00000000e+00j\n",
            " -1.30628   +0.00000000e+00j -0.415094  +0.00000000e+00j\n",
            " -1.106935  +0.00000000e+00j  0.012796  +0.00000000e+00j\n",
            " -1.106935  +0.00000000e+00j -1.30628   +0.00000000e+00j\n",
            " -0.850021  +0.00000000e+00j -0.415094  +0.00000000e+00j]\n"
          ]
        }
      ],
      "source": [
        "eigvals_H_reduced = np.linalg.eigvals(H_reduced)\n",
        "eigvals_H_complete = np.linalg.eigvals(H_complete)\n",
        "\n",
        "print(\"Eigenvalues of 2-qubit Hamiltonian:\", eigvals_H_reduced)\n",
        "print(\"Eigenvalues of 4-qubit Hamiltonian:\", eigvals_H_complete)"
      ]
    },
    {
      "cell_type": "code",
      "execution_count": null,
      "metadata": {
        "id": "f72ENjAyQq5o",
        "outputId": "af1c11d6-21d6-44f4-f9f2-487f15bcb58d"
      },
      "outputs": [
        {
          "data": {
            "text/plain": [
              "(np.complex128(-2.1424116056030673+0j),\n",
              " np.complex128(-2.050935+6.162975822039155e-33j))"
            ]
          },
          "metadata": {},
          "output_type": "display_data"
        }
      ],
      "source": [
        "min(eigvals_H_reduced), min(eigvals_H_complete)"
      ]
    }
  ],
  "metadata": {
    "accelerator": "GPU",
    "colab": {
      "gpuType": "T4",
      "provenance": [],
      "toc_visible": true
    },
    "kernelspec": {
      "display_name": ".venv",
      "language": "python",
      "name": "python3"
    },
    "language_info": {
      "codemirror_mode": {
        "name": "ipython",
        "version": 3
      },
      "file_extension": ".py",
      "mimetype": "text/x-python",
      "name": "python",
      "nbconvert_exporter": "python",
      "pygments_lexer": "ipython3",
      "version": "3.11.11"
    }
  },
  "nbformat": 4,
  "nbformat_minor": 0
}
