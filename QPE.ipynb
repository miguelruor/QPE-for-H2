{
  "cells": [
    {
      "cell_type": "code",
      "execution_count": null,
      "metadata": {
        "id": "jI4zPm-_Qq5a"
      },
      "outputs": [],
      "source": [
        "from typing import Callable, Optional\n",
        "import random\n",
        "import pickle\n",
        "import os\n",
        "import pennylane as qml\n",
        "import numpy as np\n",
        "import matplotlib.pyplot as plt\n",
        "import pandas as pd\n",
        "from tqdm import tqdm"
      ]
    },
    {
      "cell_type": "markdown",
      "metadata": {
        "id": "z5VC3-39Qq5b"
      },
      "source": [
        "# QPE implementation"
      ]
    },
    {
      "cell_type": "markdown",
      "metadata": {
        "id": "9c4uK0fIQq5c"
      },
      "source": [
        "GPU: https://pennylane.ai/install#high-performance-computing-and-gpus"
      ]
    },
    {
      "cell_type": "code",
      "execution_count": null,
      "metadata": {
        "id": "1Ac57EcXQq5c"
      },
      "outputs": [],
      "source": [
        "GPU_SIMULATION = True\n",
        "num_shots = 1024\n",
        "if GPU_SIMULATION:\n",
        "    dev = qml.device(\"lightning.gpu\", shots = num_shots) #wires=num_qubits\n",
        "else:\n",
        "    dev = qml.device(\"default.qubit\", shots = num_shots) # None shots means analytical calculation"
      ]
    },
    {
      "cell_type": "code",
      "execution_count": null,
      "metadata": {
        "id": "vkmev_WTQq5d"
      },
      "outputs": [],
      "source": [
        "@qml.qnode(dev)\n",
        "def circuit_qpe(\n",
        "    estimation_wires: list[int],\n",
        "    q_register: list[int],\n",
        "    state_prep: Callable[[list[int]], None],\n",
        "    controlled_unitary: Callable[..., None],\n",
        "    **kargs\n",
        "):\n",
        "    \"\"\"\n",
        "    Quantum Phase Estimation (QPE) circuit.\n",
        "\n",
        "    Args:\n",
        "        estimation_wires: List of qubits used to estimate the phase.\n",
        "        q_register: List of qubits holding the eigenstate of the unitary.\n",
        "        state_prep: Function that prepares the initial state |u⟩ on q_register.\n",
        "        controlled_unitary: Function that applies controlled-U^{2^i}.\n",
        "        **kargs: Additional arguments passed to controlled_unitary.\n",
        "\n",
        "    Returns:\n",
        "        Probability distribution over estimation_wires after QPE.\n",
        "    \"\"\"\n",
        "    # initial state\n",
        "    state_prep(q_register)\n",
        "\n",
        "    for wire in estimation_wires:\n",
        "        qml.Hadamard(wires=wire)\n",
        "\n",
        "    for i, control in enumerate(reversed(estimation_wires)):\n",
        "        controlled_unitary(control, q_register, 2**i, **kargs)\n",
        "\n",
        "    qml.adjoint(qml.QFT)(wires=estimation_wires)\n",
        "\n",
        "    return qml.probs(wires=estimation_wires)"
      ]
    },
    {
      "cell_type": "code",
      "execution_count": null,
      "metadata": {
        "id": "2R5Ve6vbQq5e"
      },
      "outputs": [],
      "source": [
        "def binary_string_to_decimal(binary_string: str) -> float:\n",
        "    # binary_string represent the bits of the decimal number in format 0.i_1i_2...i_n\n",
        "    # where binary_string is i_1i_2...i_n\n",
        "    res = 0\n",
        "    for i, bit in enumerate(binary_string):\n",
        "        res += float(bit)*2**(-i-1)\n",
        "\n",
        "    return res"
      ]
    },
    {
      "cell_type": "markdown",
      "metadata": {
        "id": "f23JIwY7Qq5e"
      },
      "source": [
        "### Example\n",
        "\n",
        "Computing the phase $\\theta$ for $e^{i2\\pi/5}$, which is the eigenvalue of\n",
        "\n",
        "$U = \\begin{bmatrix}\n",
        "1 & 0 \\\\\n",
        "0 & e^{i2\\pi/5}\n",
        "\\end{bmatrix}$\n",
        "\n",
        "corresponding to the eigenvector $|1\\rangle$. The output should be $\\theta = 1/5$."
      ]
    },
    {
      "cell_type": "code",
      "execution_count": null,
      "metadata": {
        "colab": {
          "base_uri": "https://localhost:8080/"
        },
        "id": "lFENB_4OQq5f",
        "outputId": "1f12c1bf-8c84-4526-c8c8-bc7e9c452795"
      },
      "outputs": [
        {
          "name": "stdout",
          "output_type": "stream",
          "text": [
            "('0.001101', np.float64(0.8681640625))\n",
            "0.203125\n"
          ]
        }
      ],
      "source": [
        "num_digits = 6\n",
        "\n",
        "results = circuit_qpe(\n",
        "    estimation_wires=range(num_digits),\n",
        "    q_register = [num_digits],\n",
        "    state_prep = lambda wires: qml.X(wires[0]),\n",
        "    controlled_unitary = lambda control, q_register, k: qml.ControlledPhaseShift(2*k * np.pi / 5, wires=[control]+q_register)\n",
        ")\n",
        "\n",
        "results_ordered = [(f\"0.{x:0{num_digits}b}\", results[x]) for x in range(len(results))]\n",
        "results_ordered.sort(key=lambda tup: tup[1], reverse=True)\n",
        "\n",
        "print(results_ordered[0])\n",
        "print(binary_string_to_decimal(results_ordered[0][0][2:]))"
      ]
    },
    {
      "cell_type": "markdown",
      "metadata": {
        "id": "QivGmjiLQq5g"
      },
      "source": [
        "Notice the result is $\\approx 0.2 = 1/5$."
      ]
    },
    {
      "cell_type": "markdown",
      "metadata": {
        "id": "fpu4cCCcQq5h"
      },
      "source": [
        "# Application: Ground state energy for Hydrogen molecule (H2)"
      ]
    },
    {
      "cell_type": "markdown",
      "metadata": {
        "id": "m356ytvtQq5h"
      },
      "source": [
        "## Hamiltonian for H2\n",
        "\n",
        "Reference: https://dojo.qulacs.org/en/latest/notebooks/7.1_quantum_phase_estimation_detailed.html#Example:-Calculation-of-the-ground-state-energy-of-the-hydrogen-molecular-Hamiltonian-using-the-quantum-phase-estimation-algorithm\n",
        "\n",
        "The Hamiltonian of the Hydrogen molecule is written in the second quantized, expressed in terms of creation and annihilation operators acting on some basis of molecular orbitals. Then, using Bravyi-Kitaev transformation, this Hamiltonian is mapped into qubits using the minimial STO-6G basis, getting the 4-qubit Hamiltonian\n",
        "$$\n",
        "H = f_0 I + f_1Z_0 + f_2 Z_1 + f_3Z_2 + f_1Z_0Z_1 \\\\\n",
        "+ f_4Z_0Z_2 + f_5Z_1Z_3 + f_6X_0Z_1X_2 + f_6Y_0Z_1Y_2 \\\\\n",
        "+ f_7Z_0Z_1Z_2 + f_4Z_0Z_2Z_3 + f_3 Z_1Z_2Z_3 \\\\\n",
        "+ f_6 X_0 Z_1 X_2 Z_3 + f_6 Y_0 Z_1 Y_2 Z_3 + f_7Z_0Z_1Z_2Z_3,\n",
        "$$\n",
        "where the values $f_i$ depend on the fixed bond length of the molecule. Noticing this Hamiltonian stabilizes qubits 1 and 3 when they start in $|0\\rangle$ (as in Hartree-Fock state), we can obtain a reduced two-qubit Hamiltonian:\n",
        "$$\n",
        "H = \\sum_{i} g_i H_i = g_0I + g_1Z_0 + g_2Z_1 + g_3Z_0Z_1 + g_4Y_0Y_1 + g_5X_0X_1,\n",
        "$$\n",
        "where the $g_i$ values are function of the $f_i$ values.\n",
        "\n",
        "We need to decompose $U=e^{-i\\tau H}$ into a quantum circuit, where $\\tau$ is a constant such that $[E_{\\text{min}}, E_{\\text{max}}]$ is shrinked to $[0, 2\\pi]$. Since $g_0I$ and $g_3Z_0Z_1$ conmute with the other terms:\n",
        "$$\n",
        "e^{-i\\tau H} = \\exp(-i\\tau \\sum_{i} g_i H_i) = \\exp[-i\\tau g_0I]\\exp[-i\\tau g_3Z_0Z_1]\\exp[-i\\tau H_{eff}],\n",
        "$$\n",
        "$$\n",
        "H_{eff}:= g_1Z_0 + g_2Z_1+ g_4Y_0Y_1 + g_5X_0X_1.\n",
        "$$\n",
        "Use Trotterization:\n",
        "$$\n",
        "U_{eff}:=\\exp[-i\\tau H_{eff}] \\approx \\left(\\prod_{i=1,2,4, 5}\\exp[-i\\tau H_i/N ]\\right)^N.\n",
        "$$\n",
        "The exponentials in the right-hand side are of the form $\\exp(i\\theta P)$, where $P$ is a Pauli matrix, and it is easy to implement it in a quantum circuit."
      ]
    },
    {
      "cell_type": "markdown",
      "metadata": {
        "id": "CVq3TuLcQq5h"
      },
      "source": [
        "### Finding eigenvalues of $H$ and $H_{\\text{eff}}$ classically"
      ]
    },
    {
      "cell_type": "code",
      "execution_count": null,
      "metadata": {
        "id": "-2iPbox7Qq5h"
      },
      "outputs": [],
      "source": [
        "def construct_H_eff(coeff: list[float]) -> np.ndarray:\n",
        "    c1, c2, c3, c4 = coeff\n",
        "\n",
        "    # Pauli matrices and the identity matrix\n",
        "    X = np.array([[0, 1], [1, 0]], dtype=complex)\n",
        "    Y = np.array([[0, -1j], [1j, 0]], dtype=complex)\n",
        "    Z = np.array([[1, 0], [0, -1]], dtype=complex)\n",
        "    I = np.eye(2, dtype=complex)\n",
        "\n",
        "    # c1 * Z_0\n",
        "    term1 = c1 * np.kron(Z, I)\n",
        "\n",
        "    # c2 * Z_1\n",
        "    term2 = c2 * np.kron(I, Z)\n",
        "\n",
        "    # c3 * Y_0 Y_1\n",
        "    term3 = c3 * np.kron(Y, Y)\n",
        "\n",
        "    # c4 * X_0 X_1\n",
        "    term4 = c4 * np.kron(X, X)\n",
        "\n",
        "    return term1 + term2 + term3 + term4\n",
        "\n",
        "\n",
        "\n",
        "def construct_hamiltonian(coeff: list[float]) -> np.ndarray:\n",
        "    g0, g1, g2, g3, g4, g5 = coeff\n",
        "\n",
        "    # Pauli matrix Z\n",
        "    Z = np.array([[1, 0], [0, -1]], dtype=complex)\n",
        "\n",
        "    # g0 * I\n",
        "    term1 = g0 * np.eye(4, dtype=complex)\n",
        "\n",
        "    # g3 * Z_0 Z_1\n",
        "    term2 = g3 * np.kron(Z, Z)\n",
        "\n",
        "    # H_eff\n",
        "    H_eff = construct_H_eff([g1, g2, g4, g5])\n",
        "\n",
        "    return term1 + term2 + H_eff"
      ]
    },
    {
      "cell_type": "markdown",
      "metadata": {
        "id": "_Rxdo_HaQq5h"
      },
      "source": [
        "Table of coefficientes for different internuclear distance"
      ]
    },
    {
      "cell_type": "code",
      "execution_count": null,
      "metadata": {
        "colab": {
          "base_uri": "https://localhost:8080/",
          "height": 206
        },
        "id": "qFl6eyOjQq5i",
        "outputId": "3b0c122e-95e4-4da5-d80c-13902d7dfed9"
      },
      "outputs": [
        {
          "data": {
            "application/vnd.google.colaboratory.intrinsic+json": {
              "summary": "{\n  \"name\": \"coeffs_df\",\n  \"rows\": 54,\n  \"fields\": [\n    {\n      \"column\": \"nuclear_dist\",\n      \"properties\": {\n        \"dtype\": \"number\",\n        \"std\": 0.7866066361276136,\n        \"min\": 0.2,\n        \"max\": 2.85,\n        \"num_unique_values\": 54,\n        \"samples\": [\n          1.15,\n          2.65,\n          2.6\n        ],\n        \"semantic_type\": \"\",\n        \"description\": \"\"\n      }\n    },\n    {\n      \"column\": \"I\",\n      \"properties\": {\n        \"dtype\": \"number\",\n        \"std\": 0.6943992652406372,\n        \"min\": -0.5707,\n        \"max\": 2.8489,\n        \"num_unique_values\": 53,\n        \"samples\": [\n          -0.5631,\n          -0.528,\n          -0.5114\n        ],\n        \"semantic_type\": \"\",\n        \"description\": \"\"\n      }\n    },\n    {\n      \"column\": \"Z0\",\n      \"properties\": {\n        \"dtype\": \"number\",\n        \"std\": 0.1337349894265716,\n        \"min\": 0.0984,\n        \"max\": 0.5678,\n        \"num_unique_values\": 54,\n        \"samples\": [\n          0.2467,\n          0.1042,\n          0.1059\n        ],\n        \"semantic_type\": \"\",\n        \"description\": \"\"\n      }\n    },\n    {\n      \"column\": \"Z1\",\n      \"properties\": {\n        \"dtype\": \"number\",\n        \"std\": 0.37932827225330545,\n        \"min\": -1.4508,\n        \"max\": 0.0679,\n        \"num_unique_values\": 54,\n        \"samples\": [\n          -0.181,\n          0.0614,\n          0.0594\n        ],\n        \"semantic_type\": \"\",\n        \"description\": \"\"\n      }\n    },\n    {\n      \"column\": \"Z0Z1\",\n      \"properties\": {\n        \"dtype\": \"number\",\n        \"std\": 0.10655364504903388,\n        \"min\": 0.3329,\n        \"max\": 0.6799,\n        \"num_unique_values\": 54,\n        \"samples\": [\n          0.4974,\n          0.3433,\n          0.3461\n        ],\n        \"semantic_type\": \"\",\n        \"description\": \"\"\n      }\n    },\n    {\n      \"column\": \"X0X1\",\n      \"properties\": {\n        \"dtype\": \"number\",\n        \"std\": 0.022091987663807114,\n        \"min\": 0.0791,\n        \"max\": 0.1475,\n        \"num_unique_values\": 54,\n        \"samples\": [\n          0.1034,\n          0.1441,\n          0.1432\n        ],\n        \"semantic_type\": \"\",\n        \"description\": \"\"\n      }\n    },\n    {\n      \"column\": \"Y0Y1\",\n      \"properties\": {\n        \"dtype\": \"number\",\n        \"std\": 0.022091987663807114,\n        \"min\": 0.0791,\n        \"max\": 0.1475,\n        \"num_unique_values\": 54,\n        \"samples\": [\n          0.1034,\n          0.1441,\n          0.1432\n        ],\n        \"semantic_type\": \"\",\n        \"description\": \"\"\n      }\n    },\n    {\n      \"column\": \"t0\",\n      \"properties\": {\n        \"dtype\": \"number\",\n        \"std\": 3.8128707011813714,\n        \"min\": 0.4,\n        \"max\": 11.5,\n        \"num_unique_values\": 52,\n        \"samples\": [\n          5.51,\n          0.42,\n          11.04\n        ],\n        \"semantic_type\": \"\",\n        \"description\": \"\"\n      }\n    },\n    {\n      \"column\": \"ordering\",\n      \"properties\": {\n        \"dtype\": \"category\",\n        \"num_unique_values\": 18,\n        \"samples\": [\n          \"Z0\\u00b7X0X1\\u00b7Z1\\u00b7Y0Y1\",\n          \"Z0\\u00b7Y0Y1\\u00b7Z1\\u00b7X0X1\",\n          \"Z1\\u00b7Z0\\u00b7X0X1\\u00b7Y0Y1\"\n        ],\n        \"semantic_type\": \"\",\n        \"description\": \"\"\n      }\n    },\n    {\n      \"column\": \"trotter_error\",\n      \"properties\": {\n        \"dtype\": \"number\",\n        \"std\": 0.026615482062041052,\n        \"min\": 0.0014,\n        \"max\": 0.0947,\n        \"num_unique_values\": 52,\n        \"samples\": [\n          0.0497,\n          0.0946,\n          0.0507\n        ],\n        \"semantic_type\": \"\",\n        \"description\": \"\"\n      }\n    }\n  ]\n}",
              "type": "dataframe",
              "variable_name": "coeffs_df"
            },
            "text/html": [
              "\n",
              "  <div id=\"df-d9565afe-f246-4ff0-8ab7-8afb6815812e\" class=\"colab-df-container\">\n",
              "    <div>\n",
              "<style scoped>\n",
              "    .dataframe tbody tr th:only-of-type {\n",
              "        vertical-align: middle;\n",
              "    }\n",
              "\n",
              "    .dataframe tbody tr th {\n",
              "        vertical-align: top;\n",
              "    }\n",
              "\n",
              "    .dataframe thead th {\n",
              "        text-align: right;\n",
              "    }\n",
              "</style>\n",
              "<table border=\"1\" class=\"dataframe\">\n",
              "  <thead>\n",
              "    <tr style=\"text-align: right;\">\n",
              "      <th></th>\n",
              "      <th>nuclear_dist</th>\n",
              "      <th>I</th>\n",
              "      <th>Z0</th>\n",
              "      <th>Z1</th>\n",
              "      <th>Z0Z1</th>\n",
              "      <th>X0X1</th>\n",
              "      <th>Y0Y1</th>\n",
              "      <th>t0</th>\n",
              "      <th>ordering</th>\n",
              "      <th>trotter_error</th>\n",
              "    </tr>\n",
              "  </thead>\n",
              "  <tbody>\n",
              "    <tr>\n",
              "      <th>0</th>\n",
              "      <td>0.20</td>\n",
              "      <td>2.8489</td>\n",
              "      <td>0.5678</td>\n",
              "      <td>-1.4508</td>\n",
              "      <td>0.6799</td>\n",
              "      <td>0.0791</td>\n",
              "      <td>0.0791</td>\n",
              "      <td>1.50</td>\n",
              "      <td>Z0·X0X1·Z1·Y0Y1</td>\n",
              "      <td>0.0124</td>\n",
              "    </tr>\n",
              "    <tr>\n",
              "      <th>1</th>\n",
              "      <td>0.25</td>\n",
              "      <td>2.1868</td>\n",
              "      <td>0.5449</td>\n",
              "      <td>-1.2870</td>\n",
              "      <td>0.6719</td>\n",
              "      <td>0.0798</td>\n",
              "      <td>0.0798</td>\n",
              "      <td>1.59</td>\n",
              "      <td>Z0·Y0Y1·Z1·X0X1</td>\n",
              "      <td>0.0521</td>\n",
              "    </tr>\n",
              "    <tr>\n",
              "      <th>2</th>\n",
              "      <td>0.30</td>\n",
              "      <td>1.7252</td>\n",
              "      <td>0.5215</td>\n",
              "      <td>-1.1458</td>\n",
              "      <td>0.6631</td>\n",
              "      <td>0.0806</td>\n",
              "      <td>0.0806</td>\n",
              "      <td>1.77</td>\n",
              "      <td>X0X1·Z0·Y0Y1·Z1</td>\n",
              "      <td>0.0111</td>\n",
              "    </tr>\n",
              "    <tr>\n",
              "      <th>3</th>\n",
              "      <td>0.35</td>\n",
              "      <td>1.3827</td>\n",
              "      <td>0.4982</td>\n",
              "      <td>-1.0226</td>\n",
              "      <td>0.6537</td>\n",
              "      <td>0.0815</td>\n",
              "      <td>0.0815</td>\n",
              "      <td>2.08</td>\n",
              "      <td>Z0·X0X1·Z1·Y0Y1</td>\n",
              "      <td>0.0368</td>\n",
              "    </tr>\n",
              "    <tr>\n",
              "      <th>4</th>\n",
              "      <td>0.40</td>\n",
              "      <td>-0.2047</td>\n",
              "      <td>0.4754</td>\n",
              "      <td>-0.9145</td>\n",
              "      <td>0.6438</td>\n",
              "      <td>0.0825</td>\n",
              "      <td>0.0825</td>\n",
              "      <td>2.10</td>\n",
              "      <td>Z0·X0X1·Z1·Y0Y1</td>\n",
              "      <td>0.0088</td>\n",
              "    </tr>\n",
              "  </tbody>\n",
              "</table>\n",
              "</div>\n",
              "    <div class=\"colab-df-buttons\">\n",
              "\n",
              "  <div class=\"colab-df-container\">\n",
              "    <button class=\"colab-df-convert\" onclick=\"convertToInteractive('df-d9565afe-f246-4ff0-8ab7-8afb6815812e')\"\n",
              "            title=\"Convert this dataframe to an interactive table.\"\n",
              "            style=\"display:none;\">\n",
              "\n",
              "  <svg xmlns=\"http://www.w3.org/2000/svg\" height=\"24px\" viewBox=\"0 -960 960 960\">\n",
              "    <path d=\"M120-120v-720h720v720H120Zm60-500h600v-160H180v160Zm220 220h160v-160H400v160Zm0 220h160v-160H400v160ZM180-400h160v-160H180v160Zm440 0h160v-160H620v160ZM180-180h160v-160H180v160Zm440 0h160v-160H620v160Z\"/>\n",
              "  </svg>\n",
              "    </button>\n",
              "\n",
              "  <style>\n",
              "    .colab-df-container {\n",
              "      display:flex;\n",
              "      gap: 12px;\n",
              "    }\n",
              "\n",
              "    .colab-df-convert {\n",
              "      background-color: #E8F0FE;\n",
              "      border: none;\n",
              "      border-radius: 50%;\n",
              "      cursor: pointer;\n",
              "      display: none;\n",
              "      fill: #1967D2;\n",
              "      height: 32px;\n",
              "      padding: 0 0 0 0;\n",
              "      width: 32px;\n",
              "    }\n",
              "\n",
              "    .colab-df-convert:hover {\n",
              "      background-color: #E2EBFA;\n",
              "      box-shadow: 0px 1px 2px rgba(60, 64, 67, 0.3), 0px 1px 3px 1px rgba(60, 64, 67, 0.15);\n",
              "      fill: #174EA6;\n",
              "    }\n",
              "\n",
              "    .colab-df-buttons div {\n",
              "      margin-bottom: 4px;\n",
              "    }\n",
              "\n",
              "    [theme=dark] .colab-df-convert {\n",
              "      background-color: #3B4455;\n",
              "      fill: #D2E3FC;\n",
              "    }\n",
              "\n",
              "    [theme=dark] .colab-df-convert:hover {\n",
              "      background-color: #434B5C;\n",
              "      box-shadow: 0px 1px 3px 1px rgba(0, 0, 0, 0.15);\n",
              "      filter: drop-shadow(0px 1px 2px rgba(0, 0, 0, 0.3));\n",
              "      fill: #FFFFFF;\n",
              "    }\n",
              "  </style>\n",
              "\n",
              "    <script>\n",
              "      const buttonEl =\n",
              "        document.querySelector('#df-d9565afe-f246-4ff0-8ab7-8afb6815812e button.colab-df-convert');\n",
              "      buttonEl.style.display =\n",
              "        google.colab.kernel.accessAllowed ? 'block' : 'none';\n",
              "\n",
              "      async function convertToInteractive(key) {\n",
              "        const element = document.querySelector('#df-d9565afe-f246-4ff0-8ab7-8afb6815812e');\n",
              "        const dataTable =\n",
              "          await google.colab.kernel.invokeFunction('convertToInteractive',\n",
              "                                                    [key], {});\n",
              "        if (!dataTable) return;\n",
              "\n",
              "        const docLinkHtml = 'Like what you see? Visit the ' +\n",
              "          '<a target=\"_blank\" href=https://colab.research.google.com/notebooks/data_table.ipynb>data table notebook</a>'\n",
              "          + ' to learn more about interactive tables.';\n",
              "        element.innerHTML = '';\n",
              "        dataTable['output_type'] = 'display_data';\n",
              "        await google.colab.output.renderOutput(dataTable, element);\n",
              "        const docLink = document.createElement('div');\n",
              "        docLink.innerHTML = docLinkHtml;\n",
              "        element.appendChild(docLink);\n",
              "      }\n",
              "    </script>\n",
              "  </div>\n",
              "\n",
              "\n",
              "    <div id=\"df-6507bd1d-a7f6-4c7f-a2f5-f35850c5609d\">\n",
              "      <button class=\"colab-df-quickchart\" onclick=\"quickchart('df-6507bd1d-a7f6-4c7f-a2f5-f35850c5609d')\"\n",
              "                title=\"Suggest charts\"\n",
              "                style=\"display:none;\">\n",
              "\n",
              "<svg xmlns=\"http://www.w3.org/2000/svg\" height=\"24px\"viewBox=\"0 0 24 24\"\n",
              "     width=\"24px\">\n",
              "    <g>\n",
              "        <path d=\"M19 3H5c-1.1 0-2 .9-2 2v14c0 1.1.9 2 2 2h14c1.1 0 2-.9 2-2V5c0-1.1-.9-2-2-2zM9 17H7v-7h2v7zm4 0h-2V7h2v10zm4 0h-2v-4h2v4z\"/>\n",
              "    </g>\n",
              "</svg>\n",
              "      </button>\n",
              "\n",
              "<style>\n",
              "  .colab-df-quickchart {\n",
              "      --bg-color: #E8F0FE;\n",
              "      --fill-color: #1967D2;\n",
              "      --hover-bg-color: #E2EBFA;\n",
              "      --hover-fill-color: #174EA6;\n",
              "      --disabled-fill-color: #AAA;\n",
              "      --disabled-bg-color: #DDD;\n",
              "  }\n",
              "\n",
              "  [theme=dark] .colab-df-quickchart {\n",
              "      --bg-color: #3B4455;\n",
              "      --fill-color: #D2E3FC;\n",
              "      --hover-bg-color: #434B5C;\n",
              "      --hover-fill-color: #FFFFFF;\n",
              "      --disabled-bg-color: #3B4455;\n",
              "      --disabled-fill-color: #666;\n",
              "  }\n",
              "\n",
              "  .colab-df-quickchart {\n",
              "    background-color: var(--bg-color);\n",
              "    border: none;\n",
              "    border-radius: 50%;\n",
              "    cursor: pointer;\n",
              "    display: none;\n",
              "    fill: var(--fill-color);\n",
              "    height: 32px;\n",
              "    padding: 0;\n",
              "    width: 32px;\n",
              "  }\n",
              "\n",
              "  .colab-df-quickchart:hover {\n",
              "    background-color: var(--hover-bg-color);\n",
              "    box-shadow: 0 1px 2px rgba(60, 64, 67, 0.3), 0 1px 3px 1px rgba(60, 64, 67, 0.15);\n",
              "    fill: var(--button-hover-fill-color);\n",
              "  }\n",
              "\n",
              "  .colab-df-quickchart-complete:disabled,\n",
              "  .colab-df-quickchart-complete:disabled:hover {\n",
              "    background-color: var(--disabled-bg-color);\n",
              "    fill: var(--disabled-fill-color);\n",
              "    box-shadow: none;\n",
              "  }\n",
              "\n",
              "  .colab-df-spinner {\n",
              "    border: 2px solid var(--fill-color);\n",
              "    border-color: transparent;\n",
              "    border-bottom-color: var(--fill-color);\n",
              "    animation:\n",
              "      spin 1s steps(1) infinite;\n",
              "  }\n",
              "\n",
              "  @keyframes spin {\n",
              "    0% {\n",
              "      border-color: transparent;\n",
              "      border-bottom-color: var(--fill-color);\n",
              "      border-left-color: var(--fill-color);\n",
              "    }\n",
              "    20% {\n",
              "      border-color: transparent;\n",
              "      border-left-color: var(--fill-color);\n",
              "      border-top-color: var(--fill-color);\n",
              "    }\n",
              "    30% {\n",
              "      border-color: transparent;\n",
              "      border-left-color: var(--fill-color);\n",
              "      border-top-color: var(--fill-color);\n",
              "      border-right-color: var(--fill-color);\n",
              "    }\n",
              "    40% {\n",
              "      border-color: transparent;\n",
              "      border-right-color: var(--fill-color);\n",
              "      border-top-color: var(--fill-color);\n",
              "    }\n",
              "    60% {\n",
              "      border-color: transparent;\n",
              "      border-right-color: var(--fill-color);\n",
              "    }\n",
              "    80% {\n",
              "      border-color: transparent;\n",
              "      border-right-color: var(--fill-color);\n",
              "      border-bottom-color: var(--fill-color);\n",
              "    }\n",
              "    90% {\n",
              "      border-color: transparent;\n",
              "      border-bottom-color: var(--fill-color);\n",
              "    }\n",
              "  }\n",
              "</style>\n",
              "\n",
              "      <script>\n",
              "        async function quickchart(key) {\n",
              "          const quickchartButtonEl =\n",
              "            document.querySelector('#' + key + ' button');\n",
              "          quickchartButtonEl.disabled = true;  // To prevent multiple clicks.\n",
              "          quickchartButtonEl.classList.add('colab-df-spinner');\n",
              "          try {\n",
              "            const charts = await google.colab.kernel.invokeFunction(\n",
              "                'suggestCharts', [key], {});\n",
              "          } catch (error) {\n",
              "            console.error('Error during call to suggestCharts:', error);\n",
              "          }\n",
              "          quickchartButtonEl.classList.remove('colab-df-spinner');\n",
              "          quickchartButtonEl.classList.add('colab-df-quickchart-complete');\n",
              "        }\n",
              "        (() => {\n",
              "          let quickchartButtonEl =\n",
              "            document.querySelector('#df-6507bd1d-a7f6-4c7f-a2f5-f35850c5609d button');\n",
              "          quickchartButtonEl.style.display =\n",
              "            google.colab.kernel.accessAllowed ? 'block' : 'none';\n",
              "        })();\n",
              "      </script>\n",
              "    </div>\n",
              "\n",
              "    </div>\n",
              "  </div>\n"
            ],
            "text/plain": [
              "   nuclear_dist       I      Z0      Z1    Z0Z1    X0X1    Y0Y1    t0  \\\n",
              "0          0.20  2.8489  0.5678 -1.4508  0.6799  0.0791  0.0791  1.50   \n",
              "1          0.25  2.1868  0.5449 -1.2870  0.6719  0.0798  0.0798  1.59   \n",
              "2          0.30  1.7252  0.5215 -1.1458  0.6631  0.0806  0.0806  1.77   \n",
              "3          0.35  1.3827  0.4982 -1.0226  0.6537  0.0815  0.0815  2.08   \n",
              "4          0.40 -0.2047  0.4754 -0.9145  0.6438  0.0825  0.0825  2.10   \n",
              "\n",
              "          ordering  trotter_error  \n",
              "0  Z0·X0X1·Z1·Y0Y1         0.0124  \n",
              "1  Z0·Y0Y1·Z1·X0X1         0.0521  \n",
              "2  X0X1·Z0·Y0Y1·Z1         0.0111  \n",
              "3  Z0·X0X1·Z1·Y0Y1         0.0368  \n",
              "4  Z0·X0X1·Z1·Y0Y1         0.0088  "
            ]
          },
          "execution_count": 9,
          "metadata": {},
          "output_type": "execute_result"
        }
      ],
      "source": [
        "table_coeffs_path = \"/content/drive/MyDrive/Miguel R - Thesis MSc/table_coeffs.csv\"\n",
        "coeffs_df = pd.read_csv(table_coeffs_path)\n",
        "coeffs_df.head()"
      ]
    },
    {
      "cell_type": "code",
      "execution_count": null,
      "metadata": {
        "colab": {
          "base_uri": "https://localhost:8080/"
        },
        "id": "tTGRZ3UAbOLV",
        "outputId": "d9a2cb47-a974-4757-d393-7a6dcc70b406"
      },
      "outputs": [
        {
          "data": {
            "text/plain": [
              "(['Z0', 'X0X1', 'Z1', 'Y0Y1'], 'Z0·X0X1·Z1·Y0Y1')"
            ]
          },
          "execution_count": 9,
          "metadata": {},
          "output_type": "execute_result"
        }
      ],
      "source": [
        "coeffs_df[\"ordering\"].iloc[0].split(\"·\"), coeffs_df[\"ordering\"].iloc[0]"
      ]
    },
    {
      "cell_type": "markdown",
      "metadata": {
        "id": "yZ2olxkwQq5i"
      },
      "source": [
        "Computing the ground state energy for internuclear distance $R=0.70$"
      ]
    },
    {
      "cell_type": "code",
      "execution_count": null,
      "metadata": {
        "colab": {
          "base_uri": "https://localhost:8080/",
          "height": 398
        },
        "id": "qA2IiwbNQq5i",
        "outputId": "1992a870-a067-4fc9-e0a7-c805e72984ca"
      },
      "outputs": [
        {
          "data": {
            "text/html": [
              "<div>\n",
              "<style scoped>\n",
              "    .dataframe tbody tr th:only-of-type {\n",
              "        vertical-align: middle;\n",
              "    }\n",
              "\n",
              "    .dataframe tbody tr th {\n",
              "        vertical-align: top;\n",
              "    }\n",
              "\n",
              "    .dataframe thead th {\n",
              "        text-align: right;\n",
              "    }\n",
              "</style>\n",
              "<table border=\"1\" class=\"dataframe\">\n",
              "  <thead>\n",
              "    <tr style=\"text-align: right;\">\n",
              "      <th></th>\n",
              "      <th>10</th>\n",
              "    </tr>\n",
              "  </thead>\n",
              "  <tbody>\n",
              "    <tr>\n",
              "      <th>nuclear_dist</th>\n",
              "      <td>0.7</td>\n",
              "    </tr>\n",
              "    <tr>\n",
              "      <th>I</th>\n",
              "      <td>-0.4584</td>\n",
              "    </tr>\n",
              "    <tr>\n",
              "      <th>Z0</th>\n",
              "      <td>0.3593</td>\n",
              "    </tr>\n",
              "    <tr>\n",
              "      <th>Z1</th>\n",
              "      <td>-0.4826</td>\n",
              "    </tr>\n",
              "    <tr>\n",
              "      <th>Z0Z1</th>\n",
              "      <td>0.5818</td>\n",
              "    </tr>\n",
              "    <tr>\n",
              "      <th>X0X1</th>\n",
              "      <td>0.0896</td>\n",
              "    </tr>\n",
              "    <tr>\n",
              "      <th>Y0Y1</th>\n",
              "      <td>0.0896</td>\n",
              "    </tr>\n",
              "    <tr>\n",
              "      <th>t0</th>\n",
              "      <td>0.64</td>\n",
              "    </tr>\n",
              "    <tr>\n",
              "      <th>ordering</th>\n",
              "      <td>Z0·Y0Y1·Z1·X0X1</td>\n",
              "    </tr>\n",
              "    <tr>\n",
              "      <th>trotter_error</th>\n",
              "      <td>0.0171</td>\n",
              "    </tr>\n",
              "  </tbody>\n",
              "</table>\n",
              "</div><br><label><b>dtype:</b> object</label>"
            ],
            "text/plain": [
              "nuclear_dist                 0.7\n",
              "I                        -0.4584\n",
              "Z0                        0.3593\n",
              "Z1                       -0.4826\n",
              "Z0Z1                      0.5818\n",
              "X0X1                      0.0896\n",
              "Y0Y1                      0.0896\n",
              "t0                          0.64\n",
              "ordering         Z0·Y0Y1·Z1·X0X1\n",
              "trotter_error             0.0171\n",
              "Name: 10, dtype: object"
            ]
          },
          "execution_count": 13,
          "metadata": {},
          "output_type": "execute_result"
        }
      ],
      "source": [
        "coeffs_eg = coeffs_df.loc[10]\n",
        "coeffs_eg"
      ]
    },
    {
      "cell_type": "code",
      "execution_count": null,
      "metadata": {
        "id": "4JMTg68uQq5i"
      },
      "outputs": [],
      "source": [
        "H_eff = construct_H_eff(coeffs_eg[[\"Z0\", \"Z1\", \"Y0Y1\", \"X0X1\"]])\n",
        "H = construct_hamiltonian(coeffs_eg[[\"I\", \"Z0\", \"Z1\", \"Z0Z1\", \"Y0Y1\", \"X0X1\"]])"
      ]
    },
    {
      "cell_type": "code",
      "execution_count": null,
      "metadata": {
        "colab": {
          "base_uri": "https://localhost:8080/"
        },
        "id": "nTDOJGYcQq5j",
        "outputId": "9c92d44e-aabd-4cd9-8045-b0494e19b1ae"
      },
      "outputs": [
        {
          "name": "stdout",
          "output_type": "stream",
          "text": [
            "H\n",
            "Eigenvalues: [-1.90096027e+00+0.j -1.79439726e-01+0.j  1.00000000e-04+0.j\n",
            "  2.46700000e-01+0.j]\n",
            "Minimum: (-1.900960274408618+0j)\n",
            "----------\n",
            "H_eff\n",
            "Eigenvalues: [-0.86076027+0.j  0.86076027+0.j -0.1233    +0.j  0.1233    +0.j]\n",
            "Minimum: (-0.8607602744086181+0j)\n"
          ]
        }
      ],
      "source": [
        "eigs_H = np.linalg.eigvals(H)\n",
        "eigs_H_eff = np.linalg.eigvals(H_eff)\n",
        "\n",
        "print(\"H\")\n",
        "print(\"Eigenvalues:\", eigs_H)\n",
        "print(\"Minimum:\", np.min(eigs_H))\n",
        "print(\"-\"*10)\n",
        "print(\"H_eff\")\n",
        "print(\"Eigenvalues:\", eigs_H_eff)\n",
        "print(\"Minimum:\", np.min(eigs_H_eff))"
      ]
    },
    {
      "cell_type": "markdown",
      "metadata": {
        "id": "wD4K4BHwQq5k"
      },
      "source": [
        "Notice:"
      ]
    },
    {
      "cell_type": "code",
      "execution_count": null,
      "metadata": {
        "colab": {
          "base_uri": "https://localhost:8080/"
        },
        "id": "xrd0e1zFQq5k",
        "outputId": "0008ebcb-8b73-44ab-e921-31928dc0284c"
      },
      "outputs": [
        {
          "data": {
            "text/plain": [
              "np.complex128(-1.900960274408618+0j)"
            ]
          },
          "execution_count": 12,
          "metadata": {},
          "output_type": "execute_result"
        }
      ],
      "source": [
        "coeffs_eg[\"I\"] - coeffs_eg[\"Z0Z1\"] + np.min(eigs_H_eff) # -> np.min(eigs_H)"
      ]
    },
    {
      "cell_type": "markdown",
      "metadata": {
        "id": "1FdCicdnQq5k"
      },
      "source": [
        "### Computing the exact energy surface"
      ]
    },
    {
      "cell_type": "code",
      "execution_count": null,
      "metadata": {
        "id": "nEHd0ecFQq5k"
      },
      "outputs": [],
      "source": [
        "energy_surface = np.zeros(len(coeffs_df))\n",
        "for idx, coeffs in coeffs_df.iterrows():\n",
        "    hamiltonian = construct_hamiltonian(coeffs[[\"I\", \"Z0\", \"Z1\", \"Z0Z1\", \"Y0Y1\", \"X0X1\"]]) # construct_H_eff(coeffs[[\"Z0\", \"Z1\", \"Y0Y1\", \"X0X1\"]])\n",
        "    eigs_H = np.linalg.eigvals(hamiltonian)\n",
        "    energy_surface[idx] = np.min(eigs_H).real"
      ]
    },
    {
      "cell_type": "code",
      "execution_count": null,
      "metadata": {
        "colab": {
          "base_uri": "https://localhost:8080/",
          "height": 449
        },
        "id": "LkqYBh5tQq5l",
        "outputId": "db6532c8-3cd8-4f18-8228-b86d9afae0a3"
      },
      "outputs": [
        {
          "data": {
            "image/png": "[encoded data removed]",
            "text/plain": [
              "<Figure size 640x480 with 1 Axes>"
            ]
          },
          "metadata": {},
          "output_type": "display_data"
        }
      ],
      "source": [
        "plt.plot(coeffs_df[\"nuclear_dist\"], energy_surface, marker=\"o\", label=\"Energy Surface\")\n",
        "plt.xlabel(\"Internuclear Distance R (angstrom)\")\n",
        "plt.ylabel(\"Total energy (Hartree)\")\n",
        "plt.legend()\n",
        "plt.show()"
      ]
    },
    {
      "cell_type": "markdown",
      "metadata": {
        "id": "wKCP89GYQq5l"
      },
      "source": [
        "### Finding eigenvalues of $H$ with Quantum Phase Estimation algorithm"
      ]
    },
    {
      "cell_type": "markdown",
      "metadata": {
        "id": "8saFBQdgQq5l"
      },
      "source": [
        "Function that computes the controlled $U^{2^j}$ gates for the QPE circuit, where $U=\\exp(-iH\\tau)$ is computed with the Trotter approximation."
      ]
    },
    {
      "cell_type": "code",
      "execution_count": null,
      "metadata": {
        "id": "UbbbAm8le24w"
      },
      "outputs": [],
      "source": [
        "def ctrl_RZZ(phi: float, control: int, target_wires: list[int]):\n",
        "    qml.CNOT(wires=target_wires)\n",
        "    qml.CRZ(phi=phi, wires=[control, target_wires[1]])\n",
        "    qml.CNOT(wires=target_wires)\n",
        "\n",
        "def ctrl_RXX(phi: float, control: int, target_wires: list[int]):\n",
        "    qml.Hadamard(wires=target_wires[0])\n",
        "    qml.Hadamard(wires=target_wires[1])\n",
        "    ctrl_RZZ(phi=phi, control=control, target_wires=target_wires)\n",
        "    qml.Hadamard(wires=target_wires[0])\n",
        "    qml.Hadamard(wires=target_wires[1])\n",
        "\n",
        "def ctrl_RYY(phi: float, control: int, target_wires: list[int]):\n",
        "    qml.adjoint(qml.S)(wires=target_wires[0])\n",
        "    qml.adjoint(qml.S)(wires=target_wires[1])\n",
        "    ctrl_RXX(phi=phi, control=control, target_wires=target_wires)\n",
        "    qml.S(wires=target_wires[0])\n",
        "    qml.S(wires=target_wires[1])"
      ]
    },
    {
      "cell_type": "code",
      "execution_count": null,
      "metadata": {
        "id": "Og4C_0YJgBg1"
      },
      "outputs": [],
      "source": [
        "def string_to_operator(operator: str, phi: float, control: int, target_wires: list[int]):\n",
        "    # apply controlled-RZ, controlled-RXX or controlled-RYY, according to parameter ``operator``\n",
        "    if operator == \"Z0\" or operator == \"Z1\":\n",
        "        target = target_wires[0] if operator[1] == \"0\" else target_wires[1]\n",
        "        qml.CRZ(phi=phi, wires=[control, target])\n",
        "    elif operator == \"Y0Y1\":\n",
        "        ctrl_RYY(phi=phi, control=control, target_wires=target_wires)\n",
        "    elif operator == \"X0X1\":\n",
        "        ctrl_RXX(phi=phi, control=control, target_wires=target_wires)\n",
        "\n",
        "\n",
        "def controlledHydrogenUnitary(\n",
        "    control: int,\n",
        "    target_wires: list[int],\n",
        "    k: int,\n",
        "    tau: float,\n",
        "    trotter_steps: int,\n",
        "    coeff: dict[str, float],\n",
        "    add_ZZ: bool = False,\n",
        "    ordering: Optional[list[str]] = None\n",
        "):\n",
        "    \"\"\"Apply the controlled-exp(-i*tau*k*H), where H is explained above.\n",
        "    The order of terms in H is specified in the ``ordering`` parameter, e.g.,\n",
        "    [\"Z0\", \"X0X1\", \"Z1\", \"Y0Y1\"]. Only the terms in this example list are considered.\n",
        "    These strings are keys from coeff when it is a dictionary\n",
        "    \"\"\"\n",
        "\n",
        "    # we may omit exp(-i*tau*g_0 I) and add tau*g_0 to the eigenvalue obtained\n",
        "\n",
        "    # controlled-RZZ\n",
        "    if add_ZZ:\n",
        "        ctrl_RZZ(phi=2 * coeff[\"Z0Z1\"] * tau * k, control=control, target_wires=target_wires)\n",
        "\n",
        "    # default operator ordering\n",
        "    if ordering is None:\n",
        "        ordering = [\"Z0\", \"Y0Y1\", \"Z1\", \"X0X1\"]\n",
        "\n",
        "    # trotterization for U_eff^k\n",
        "    for _ in range(trotter_steps):\n",
        "        for operator in ordering:\n",
        "            string_to_operator(operator, 2 * tau * k * coeff[operator] / trotter_steps, control, target_wires)"
      ]
    },
    {
      "cell_type": "markdown",
      "metadata": {
        "id": "MjmDMowaQq5l"
      },
      "source": [
        "### Example of how incrementing the Trotter steps gives more accuracy:\n",
        "\n",
        "- Initial state with sufficient overlap with the ground state: the Hartree-Fock state which is $|01\\rangle$."
      ]
    },
    {
      "cell_type": "code",
      "execution_count": null,
      "metadata": {
        "id": "5m05XN7cZojL"
      },
      "outputs": [],
      "source": [
        "tau = 1.0\n",
        "coeff = coeffs_eg[[\"I\", \"Z0\", \"Z1\", \"Z0Z1\", \"Y0Y1\", \"X0X1\"]]"
      ]
    },
    {
      "cell_type": "code",
      "execution_count": null,
      "metadata": {
        "colab": {
          "base_uri": "https://localhost:8080/"
        },
        "id": "0eKdJV34Qq5l",
        "outputId": "366412b0-c823-47e9-cf17-0a6f5d23060f"
      },
      "outputs": [
        {
          "name": "stderr",
          "output_type": "stream",
          "text": [
            "100%|██████████| 80/80 [04:39<00:00,  3.49s/it]\n"
          ]
        }
      ],
      "source": [
        "COMPUTE_WORKLOAD = True\n",
        "\n",
        "if COMPUTE_WORKLOAD:\n",
        "    eigs = []\n",
        "\n",
        "    max_trotter_steps = 80\n",
        "    num_digits = 18\n",
        "\n",
        "    for trotter_steps in tqdm(range(1, max_trotter_steps+1)):\n",
        "        results = circuit_qpe(\n",
        "            estimation_wires=range(num_digits),\n",
        "            q_register = [num_digits, num_digits+1],\n",
        "            state_prep = lambda wires: qml.X(wires[0]),\n",
        "            controlled_unitary = controlledHydrogenUnitary,\n",
        "            tau = tau,\n",
        "            trotter_steps = trotter_steps,\n",
        "            coeff = coeff,\n",
        "            add_ZZ = True,  # add controlled-RZZ term\n",
        "            ordering = coeffs_eg[\"ordering\"].split(\"·\")\n",
        "        )\n",
        "\n",
        "        max_prob_result = results.argmax()\n",
        "        max_prob_result_binary = f\"{max_prob_result:0{num_digits}b}\"\n",
        "        phase = binary_string_to_decimal(max_prob_result_binary)\n",
        "        estimated_eig = -2*np.pi*phase/tau + coeffs_eg[\"I\"]\n",
        "\n",
        "        eigs.append(estimated_eig)"
      ]
    },
    {
      "cell_type": "code",
      "execution_count": null,
      "metadata": {
        "colab": {
          "base_uri": "https://localhost:8080/"
        },
        "id": "w6cBkFg8XN2R",
        "outputId": "8a59ae70-7da3-4411-ae26-05cfed8f16bd"
      },
      "outputs": [
        {
          "name": "stdout",
          "output_type": "stream",
          "text": [
            "Eigenvalues loaded from pickle file, for each number of trotter steps.\n"
          ]
        }
      ],
      "source": [
        "pickle_path = \"/content/drive/MyDrive/Miguel R - Thesis MSc/eigs_trotter_steps.pkl\"\n",
        "\n",
        "# Check if the file already exists\n",
        "if os.path.exists(pickle_path):\n",
        "    # Load previously computed eigenvalues\n",
        "    with open(pickle_path, \"rb\") as f:\n",
        "        eigs = pickle.load(f)\n",
        "    print(\"Eigenvalues loaded from pickle file, for each number of trotter steps.\")\n",
        "else:\n",
        "    # Save eigenvalues to pickle for future use\n",
        "    with open(pickle_path, \"wb\") as f:\n",
        "        pickle.dump(eigs, f)\n",
        "\n",
        "    print(\"Eigenvalues computed and saved to pickle file, for each number of trotter steps.\")"
      ]
    },
    {
      "cell_type": "code",
      "execution_count": null,
      "metadata": {
        "id": "E_EZCXsw_FH_"
      },
      "outputs": [],
      "source": [
        "H = construct_hamiltonian(coeffs_eg[[\"I\", \"Z0\", \"Z1\", \"Z0Z1\", \"Y0Y1\", \"X0X1\"]])\n",
        "eigs_H = np.linalg.eigvals(H)\n",
        "exact_eig = min(eigs_H).real"
      ]
    },
    {
      "cell_type": "code",
      "execution_count": null,
      "metadata": {
        "colab": {
          "base_uri": "https://localhost:8080/",
          "height": 449
        },
        "id": "DHEMRKeDQq5l",
        "outputId": "e7217412-8536-4304-b4bc-78f0217e0858"
      },
      "outputs": [
        {
          "data": {
            "image/png": "[encoded data removed]",
            "text/plain": [
              "<Figure size 640x480 with 1 Axes>"
            ]
          },
          "metadata": {},
          "output_type": "display_data"
        }
      ],
      "source": [
        "plt.plot(eigs, color=\"red\", marker=\"x\", label=\"Estimated eigenvalue from QPE with Trotterization\")\n",
        "plt.xlabel(\"Number of Trotter steps\")\n",
        "plt.ylabel(\"Estimated eigenvalue (Hartree)\")\n",
        "plt.axhline(y=exact_eig, color='b', linestyle='-', label='Exact eigenvalue')\n",
        "# plot chemical accuracy line\n",
        "\n",
        "# chemical_accuracy = 1.6e-3 # Hartree\n",
        "# plt.axhline(y=exact_eig + chemical_accuracy, color='g', linestyle='--', label='Chemical accuracy (1.6e-3 Hartree)')\n",
        "# plt.axhline(y=exact_eig - chemical_accuracy, color='g', linestyle='--')\n",
        "plt.legend()\n",
        "plt.show()"
      ]
    },
    {
      "cell_type": "markdown",
      "metadata": {
        "id": "O2S0Jll7Qq5m"
      },
      "source": [
        "### Top results from QPE with the maximum Trotter steps"
      ]
    },
    {
      "cell_type": "markdown",
      "metadata": {
        "id": "F5nN1vksQq5m"
      },
      "source": [
        "Only top results with the 90% of the probability distribution"
      ]
    },
    {
      "cell_type": "code",
      "execution_count": null,
      "metadata": {
        "id": "PBXQfH8OQq5m"
      },
      "outputs": [],
      "source": [
        "if COMPUTE_WORKLOAD:\n",
        "    cumsum = np.cumsum([tup[1] for tup in results_ordered])\n",
        "    for i, s in enumerate(cumsum):\n",
        "        if s >= 0.9:\n",
        "            cumsum_i = i\n",
        "            print(i)\n",
        "            break\n",
        "\n",
        "    results_ordered = results_ordered[:cumsum_i + 1]\n",
        "    results_ordered.sort(key=lambda tup: tup[0])\n",
        "\n",
        "    plt.figure(figsize=(15, 8))\n",
        "    plt.bar([tup[0] for tup in results_ordered], [tup[1] for tup in results_ordered])\n",
        "    plt.xlabel(\"phase\")\n",
        "    plt.ylabel(\"probability\")\n",
        "    plt.xticks(rotation=\"vertical\")\n",
        "    plt.subplots_adjust(bottom=0.3)\n",
        "    plt.show()"
      ]
    },
    {
      "cell_type": "markdown",
      "metadata": {
        "id": "j-KbE2rPQq5m"
      },
      "source": [
        "### Energy surface with QPE"
      ]
    },
    {
      "cell_type": "markdown",
      "metadata": {
        "id": "ZOd5srnYPDTi"
      },
      "source": [
        "#### With $t=1$ and 4 retries"
      ]
    },
    {
      "cell_type": "code",
      "execution_count": null,
      "metadata": {
        "colab": {
          "base_uri": "https://localhost:8080/"
        },
        "id": "Twi17J_JQq5m",
        "outputId": "f7298846-43d7-40e3-de8e-05ff7614b4a6"
      },
      "outputs": [
        {
          "name": "stderr",
          "output_type": "stream",
          "text": [
            "100%|██████████| 54/54 [03:10<00:00,  3.53s/it]\n"
          ]
        }
      ],
      "source": [
        "trotter_steps = 10\n",
        "num_digits = 18\n",
        "ordering = [\"Z0\", \"Y0Y1\", \"Z1\", \"X0X1\"]\n",
        "\n",
        "retries = 4\n",
        "energy_surface_qpe = np.zeros((retries, len(coeffs_df)))\n",
        "\n",
        "random.seed(7)\n",
        "\n",
        "for idx, coeffs_row in tqdm(coeffs_df.iterrows(), total=len(coeffs_df)):\n",
        "    tau = 1.0\n",
        "    coeff = coeffs_row[[\"I\", \"Z0\", \"Z1\", \"Z0Z1\", \"Y0Y1\", \"X0X1\"]]\n",
        "\n",
        "    for k in range(retries):\n",
        "        results = circuit_qpe(\n",
        "            estimation_wires=range(num_digits),\n",
        "            q_register = [num_digits, num_digits+1],\n",
        "            state_prep = lambda wires: qml.X(wires[0]),\n",
        "            controlled_unitary = controlledHydrogenUnitary,\n",
        "            tau = tau,\n",
        "            trotter_steps = trotter_steps,\n",
        "            coeff = coeff,\n",
        "            add_ZZ = True,  # add controlled-RZZ term\n",
        "            ordering = random.sample(ordering, len(ordering)) #coeffs_row[\"ordering\"].split(\"·\")\n",
        "        )\n",
        "\n",
        "        max_prob_result = results.argmax()\n",
        "        max_prob_result_binary = f\"{max_prob_result:0{num_digits}b}\"\n",
        "        phase = binary_string_to_decimal(max_prob_result_binary)\n",
        "        estimated_eig = -2*np.pi*phase/tau + coeffs_row[\"I\"]\n",
        "\n",
        "        energy_surface_qpe[k, idx] = estimated_eig\n"
      ]
    },
    {
      "cell_type": "code",
      "execution_count": null,
      "metadata": {
        "colab": {
          "base_uri": "https://localhost:8080/",
          "height": 449
        },
        "id": "byC80YWqkwPI",
        "outputId": "937a46ed-cca1-4046-fb45-f8c509c50ab1"
      },
      "outputs": [
        {
          "data": {
            "image/png": "[encoded data removed]",
            "text/plain": [
              "<Figure size 640x480 with 1 Axes>"
            ]
          },
          "metadata": {},
          "output_type": "display_data"
        }
      ],
      "source": [
        "plt.plot(coeffs_df[\"nuclear_dist\"], energy_surface, label=\"Exact energy Surface\", alpha=0.6)\n",
        "plt.scatter(coeffs_df[\"nuclear_dist\"], energy_surface)\n",
        "plt.scatter(\n",
        "    coeffs_df[\"nuclear_dist\"],\n",
        "    energy_surface_qpe.min(axis=0),\n",
        "    marker=\"x\",\n",
        "    label=f\"Estimated energy surface from QPE with Trotterization\",\n",
        "    color=\"red\"\n",
        "    )\n",
        "plt.xlabel(\"Internuclear Distance R (angstrom)\")\n",
        "plt.ylabel(\"Energy (Hartree)\")\n",
        "plt.legend()\n",
        "plt.show()"
      ]
    },
    {
      "cell_type": "code",
      "execution_count": null,
      "metadata": {
        "colab": {
          "base_uri": "https://localhost:8080/",
          "height": 449
        },
        "id": "NHxS9EWWN8CJ",
        "outputId": "0b0be5f9-1158-4cc0-91a7-ea1a082a07ca"
      },
      "outputs": [
        {
          "data": {
            "image/png": "[encoded data removed]",
            "text/plain": [
              "<Figure size 640x480 with 1 Axes>"
            ]
          },
          "metadata": {},
          "output_type": "display_data"
        }
      ],
      "source": [
        "plt.plot(coeffs_df[\"nuclear_dist\"], energy_surface, label=\"Exact energy Surface\", alpha=0.6)\n",
        "plt.scatter(coeffs_df[\"nuclear_dist\"], energy_surface)\n",
        "for k in range(retries):\n",
        "    plt.scatter(\n",
        "        coeffs_df[\"nuclear_dist\"],\n",
        "        energy_surface_qpe[k],\n",
        "        marker=\"x\",\n",
        "        label=f\"Estimated energy surface from QPE, retry {k+1}\"\n",
        "        )\n",
        "plt.xlabel(\"Internuclear Distance R (angstrom)\")\n",
        "plt.ylabel(\"Energy (Hartree)\")\n",
        "plt.legend()\n",
        "plt.show()"
      ]
    },
    {
      "cell_type": "code",
      "execution_count": null,
      "metadata": {
        "colab": {
          "base_uri": "https://localhost:8080/"
        },
        "id": "afdHiZRKllBO",
        "outputId": "39cf3811-a8a1-4f96-8d7c-fff59e9f8463"
      },
      "outputs": [
        {
          "name": "stdout",
          "output_type": "stream",
          "text": [
            "Retry 1 -> # outliers = 12\n",
            "Retry 2 -> # outliers = 12\n",
            "Retry 3 -> # outliers = 12\n",
            "Retry 4 -> # outliers = 12\n",
            "Considering minimum of each retry -> # outliers = 10\n"
          ]
        }
      ],
      "source": [
        "for k in range(retries):\n",
        "    print(\n",
        "        f\"Retry {k+1} -> # outliers =\", sum((energy_surface - energy_surface_qpe[0]).__abs__() > 0.3)\n",
        "        )\n",
        "\n",
        "outliers = (energy_surface - energy_surface_qpe.min(axis=0)).__abs__() > 0.3 # with minimum of each retry\n",
        "print(\"Considering minimum of each retry -> # outliers =\", sum(outliers))"
      ]
    },
    {
      "cell_type": "code",
      "execution_count": null,
      "metadata": {
        "colab": {
          "base_uri": "https://localhost:8080/"
        },
        "id": "hARmXA79bz_w",
        "outputId": "487a50ef-93e1-428a-c6ee-bd6a7aee9062"
      },
      "outputs": [
        {
          "name": "stdout",
          "output_type": "stream",
          "text": [
            "Energy surface QPE computed and saved to pickle file.\n"
          ]
        }
      ],
      "source": [
        "# prompt: save also the energy_surface_qpe data in a pickle file, the same way I did for the eigs variable\n",
        "\n",
        "pickle_path_qpe = \"/content/drive/MyDrive/Miguel R - Thesis MSc/energy_surface_qpe.pkl\"\n",
        "SAVE_WORKLOAD = True\n",
        "\n",
        "if SAVE_WORKLOAD:\n",
        "    # Save energy surface QPE to pickle for future use\n",
        "    with open(pickle_path_qpe, \"wb\") as f:\n",
        "        pickle.dump(energy_surface_qpe, f)\n",
        "\n",
        "    print(\"Energy surface QPE computed and saved to pickle file.\")\n",
        "else:\n",
        "    # Load previously computed energy surface\n",
        "    with open(pickle_path_qpe, \"rb\") as f:\n",
        "        energy_surface_qpe = pickle.load(f)\n",
        "    print(\"Energy surface QPE loaded from pickle file.\")"
      ]
    }
  ],
  "metadata": {
    "accelerator": "GPU",
    "colab": {
      "gpuType": "T4",
      "provenance": [],
      "toc_visible": true
    },
    "kernelspec": {
      "display_name": ".venv",
      "language": "python",
      "name": "python3"
    },
    "language_info": {
      "codemirror_mode": {
        "name": "ipython",
        "version": 3
      },
      "file_extension": ".py",
      "mimetype": "text/x-python",
      "name": "python",
      "nbconvert_exporter": "python",
      "pygments_lexer": "ipython3",
      "version": "3.11.11"
    }
  },
  "nbformat": 4,
  "nbformat_minor": 0
}
