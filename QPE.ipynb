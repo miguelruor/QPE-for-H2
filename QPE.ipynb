{
 "cells": [
  {
   "cell_type": "code",
   "execution_count": 1,
   "metadata": {},
   "outputs": [],
   "source": [
    "from typing import Callable\n",
    "import pennylane as qml\n",
    "import numpy as np\n",
    "import matplotlib.pyplot as plt\n",
    "import pandas as pd"
   ]
  },
  {
   "cell_type": "markdown",
   "metadata": {},
   "source": [
    "## Hamiltonian for Hydrogen molecule\n",
    "\n",
    "Reference: https://dojo.qulacs.org/en/latest/notebooks/7.1_quantum_phase_estimation_detailed.html#Example:-Calculation-of-the-ground-state-energy-of-the-hydrogen-molecular-Hamiltonian-using-the-quantum-phase-estimation-algorithm\n",
    "\n",
    "The Hamiltonian of the Hydrogen molecule is written in the second quantized, expressed in terms of creation and annihilation operators acting on some basis of molecular orbitals. Then, using Bravyi-Kitaev transformation, this Hamiltonian is mapped into qubits using the minimial STO-6G basis, getting the 4-qubit Hamiltonian\n",
    "$$\n",
    "H = f_0 I + f_1Z_0 + f_2 Z_1 + f_3Z_2 + f_1Z_0Z_1 \\\\\n",
    "+ f_4Z_0Z_2 + f_5Z_1Z_3 + f_6X_0Z_1X_2 + f_6Y_0Z_1Y_2 \\\\\n",
    "+ f_7Z_0Z_1Z_2 + f_4Z_0Z_2Z_3 + f_3 Z_1Z_2Z_3 \\\\\n",
    "+ f_6 X_0 Z_1 X_2 Z_3 + f_6 Y_0 Z_1 Y_2 Z_3 + f_7Z_0Z_1Z_2Z_3,\n",
    "$$\n",
    "where the values $f_i$ depend on the fixed bond length of the molecule. Noticing this Hamiltonian stabilizes qubits 1 and 3 when they start in $|0\\rangle$ (as in Hartree-Fock state), we can obtain a reduced two-qubit Hamiltonian:\n",
    "$$\n",
    "H = \\sum_{i} g_i H_i = g_0I + g_1Z_0 + g_2Z_1 + g_3Z_0Z_1 + g_4Y_0Y_1 + g_5X_0X_1,\n",
    "$$\n",
    "where the $g_i$ values are function of the $f_i$ values.\n",
    "\n",
    "We need to decompose $U=e^{-i\\tau H}$ into a quantum circuit, where $\\tau$ is a constant such that $[E_{\\text{min}}, E_{\\text{max}}]$ is shrinked to $[0, 2\\pi]$. Since $g_0I$ and $g_3Z_0Z_1$ conmute with the other terms:\n",
    "$$\n",
    "e^{-i\\tau H} = \\exp(-i\\tau \\sum_{i} g_i H_i) = \\exp[-i\\tau g_0I]\\exp[-i\\tau g_3Z_0Z_1]\\exp[-i\\tau H_{eff}],\n",
    "$$\n",
    "$$\n",
    "H_{eff}:= g_1Z_0 + g_2Z_1+ g_4Y_0Y_1 + g_5X_0X_1.\n",
    "$$\n",
    "Use Trotterization:\n",
    "$$\n",
    "U_{eff}:=\\exp[-i\\tau H_{eff}] \\approx \\left(\\prod_{i=1,2,4, 5}\\exp[-i\\tau H_i/N ]\\right)^N.\n",
    "$$\n",
    "The exponentials in the right-hand side are of the form $\\exp(i\\theta P)$, where $P$ is a Pauli matrix, and it is easy to implement it in a quantum circuit."
   ]
  },
  {
   "cell_type": "markdown",
   "metadata": {},
   "source": [
    "### Finding eigenvalues of $H$ and $H_{\\text{eff}}$ classically"
   ]
  },
  {
   "cell_type": "code",
   "execution_count": 2,
   "metadata": {},
   "outputs": [],
   "source": [
    "def kron4(a: np.ndarray, b: np.ndarray, c: np.ndarray, d: np.ndarray) -> np.ndarray:\n",
    "    # Tensor product of four matrices\n",
    "    return np.kron(np.kron(np.kron(a, b), c), d)\n",
    "\n",
    "def construct_H_complete(coeff: list[float]) -> np.ndarray:\n",
    "    # Pauli matrices and the identity matrix\n",
    "    X = np.array([[0, 1], [1, 0]], dtype=complex)\n",
    "    Y = np.array([[0, -1j], [1j, 0]], dtype=complex)\n",
    "    Z = np.array([[1, 0], [0, -1]], dtype=complex)\n",
    "    I = np.eye(2, dtype=complex)\n",
    "    \n",
    "    H = np.zeros((16, 16), dtype=complex)\n",
    "    \n",
    "    H += coeff[0] * kron4(I, I, I, I)\n",
    "    H += coeff[1] * kron4(Z, I, I, I)\n",
    "    H += coeff[2] * kron4(I, Z, I, I)\n",
    "    H += coeff[3] * kron4(I, I, Z, I)\n",
    "    H += coeff[1] * kron4(Z, Z, I, I)\n",
    "    H += coeff[4] * kron4(Z, I, Z, I)\n",
    "    H += coeff[5] * kron4(I, Z, I, Z)\n",
    "    H += coeff[6] * kron4(X, Z, X, I)\n",
    "    H += coeff[6] * kron4(Y, Z, Y, I)\n",
    "    H += coeff[7] * kron4(Z, Z, Z, I)\n",
    "    H += coeff[4] * kron4(Z, I, Z, Z)\n",
    "    H += coeff[3] * kron4(I, Z, Z, Z)\n",
    "    H += coeff[6] * kron4(X, Z, X, Z)\n",
    "    H += coeff[6] * kron4(Y, Z, Y, Z)\n",
    "    H += coeff[7] * kron4(Z, Z, Z, Z)\n",
    "    \n",
    "    return H"
   ]
  },
  {
   "cell_type": "code",
   "execution_count": 3,
   "metadata": {},
   "outputs": [],
   "source": [
    "def construct_H_eff(coeff: list[float]) -> np.ndarray:\n",
    "    c1, c2, c3, c4 = coeff\n",
    "\n",
    "    # Pauli matrices and the identity matrix\n",
    "    X = np.array([[0, 1], [1, 0]], dtype=complex)\n",
    "    Y = np.array([[0, -1j], [1j, 0]], dtype=complex)\n",
    "    Z = np.array([[1, 0], [0, -1]], dtype=complex)\n",
    "    I = np.eye(2, dtype=complex)\n",
    "\n",
    "    # c1 * Z_0\n",
    "    term1 = c1 * np.kron(Z, I)\n",
    "\n",
    "    # c2 * Z_1 \n",
    "    term2 = c2 * np.kron(I, Z)\n",
    "\n",
    "    # c3 * Y_0 Y_1\n",
    "    term3 = c3 * np.kron(Y, Y)\n",
    "\n",
    "    # c4 * X_0 X_1\n",
    "    term4 = c4 * np.kron(X, X)\n",
    "\n",
    "    return term1 + term2 + term3 + term4\n",
    "\n",
    "\n",
    "\n",
    "def construct_hamiltonian(coeff: list[float]) -> np.ndarray:\n",
    "    g0, g1, g2, g3, g4, g5 = coeff\n",
    "    \n",
    "    # Pauli matrix Z\n",
    "    Z = np.array([[1, 0], [0, -1]], dtype=complex)\n",
    "\n",
    "    # g0 * I\n",
    "    term1 = g0 * np.eye(4, dtype=complex)\n",
    "    \n",
    "    # g3 * Z_0 Z_1\n",
    "    term2 = g3 * np.kron(Z, Z)\n",
    "    \n",
    "    # H_eff\n",
    "    H_eff = construct_H_eff([g1, g2, g4, g5])\n",
    "\n",
    "    return term1 + term2 + H_eff"
   ]
  },
  {
   "cell_type": "code",
   "execution_count": 5,
   "metadata": {},
   "outputs": [
    {
     "data": {
      "text/html": [
       "<div>\n",
       "<style scoped>\n",
       "    .dataframe tbody tr th:only-of-type {\n",
       "        vertical-align: middle;\n",
       "    }\n",
       "\n",
       "    .dataframe tbody tr th {\n",
       "        vertical-align: top;\n",
       "    }\n",
       "\n",
       "    .dataframe thead th {\n",
       "        text-align: right;\n",
       "    }\n",
       "</style>\n",
       "<table border=\"1\" class=\"dataframe\">\n",
       "  <thead>\n",
       "    <tr style=\"text-align: right;\">\n",
       "      <th></th>\n",
       "      <th>nuclear_dist</th>\n",
       "      <th>I</th>\n",
       "      <th>Z0</th>\n",
       "      <th>Z1</th>\n",
       "      <th>Z0Z1</th>\n",
       "      <th>X0X1</th>\n",
       "      <th>Y0Y1</th>\n",
       "      <th>t0</th>\n",
       "      <th>ordering</th>\n",
       "      <th>trotter_error</th>\n",
       "    </tr>\n",
       "  </thead>\n",
       "  <tbody>\n",
       "    <tr>\n",
       "      <th>0</th>\n",
       "      <td>0.20</td>\n",
       "      <td>2.8489</td>\n",
       "      <td>0.5678</td>\n",
       "      <td>−1.4508</td>\n",
       "      <td>0.6799</td>\n",
       "      <td>0.0791</td>\n",
       "      <td>0.0791</td>\n",
       "      <td>1.50</td>\n",
       "      <td>𝑍0·𝑋0⁢𝑋1·𝑍1·𝑌0⁢𝑌1</td>\n",
       "      <td>0.0124</td>\n",
       "    </tr>\n",
       "    <tr>\n",
       "      <th>1</th>\n",
       "      <td>0.25</td>\n",
       "      <td>2.1868</td>\n",
       "      <td>0.5449</td>\n",
       "      <td>−1.2870</td>\n",
       "      <td>0.6719</td>\n",
       "      <td>0.0798</td>\n",
       "      <td>0.0798</td>\n",
       "      <td>1.59</td>\n",
       "      <td>𝑍0·𝑌0⁢𝑌1·𝑍1·𝑋0⁢𝑋1</td>\n",
       "      <td>0.0521</td>\n",
       "    </tr>\n",
       "    <tr>\n",
       "      <th>2</th>\n",
       "      <td>0.30</td>\n",
       "      <td>1.7252</td>\n",
       "      <td>0.5215</td>\n",
       "      <td>−1.1458</td>\n",
       "      <td>0.6631</td>\n",
       "      <td>0.0806</td>\n",
       "      <td>0.0806</td>\n",
       "      <td>1.77</td>\n",
       "      <td>𝑋0⁢𝑋1·𝑍0·𝑌0⁢𝑌1·𝑍1</td>\n",
       "      <td>0.0111</td>\n",
       "    </tr>\n",
       "    <tr>\n",
       "      <th>3</th>\n",
       "      <td>0.35</td>\n",
       "      <td>1.3827</td>\n",
       "      <td>0.4982</td>\n",
       "      <td>−1.0226</td>\n",
       "      <td>0.6537</td>\n",
       "      <td>0.0815</td>\n",
       "      <td>0.0815</td>\n",
       "      <td>2.08</td>\n",
       "      <td>𝑍0·𝑋0⁢𝑋1·𝑍1·𝑌0⁢𝑌1</td>\n",
       "      <td>0.0368</td>\n",
       "    </tr>\n",
       "    <tr>\n",
       "      <th>4</th>\n",
       "      <td>0.40</td>\n",
       "      <td>−0.2047</td>\n",
       "      <td>0.4754</td>\n",
       "      <td>−0.9145</td>\n",
       "      <td>0.6438</td>\n",
       "      <td>0.0825</td>\n",
       "      <td>0.0825</td>\n",
       "      <td>2.10</td>\n",
       "      <td>𝑍0·𝑋0⁢𝑋1·𝑍1·𝑌0⁢𝑌1</td>\n",
       "      <td>0.0088</td>\n",
       "    </tr>\n",
       "  </tbody>\n",
       "</table>\n",
       "</div>"
      ],
      "text/plain": [
       "   nuclear_dist        I      Z0       Z1    Z0Z1    X0X1    Y0Y1    t0  \\\n",
       "0          0.20   2.8489  0.5678  −1.4508  0.6799  0.0791  0.0791  1.50   \n",
       "1          0.25   2.1868  0.5449  −1.2870  0.6719  0.0798  0.0798  1.59   \n",
       "2          0.30   1.7252  0.5215  −1.1458  0.6631  0.0806  0.0806  1.77   \n",
       "3          0.35   1.3827  0.4982  −1.0226  0.6537  0.0815  0.0815  2.08   \n",
       "4          0.40  −0.2047  0.4754  −0.9145  0.6438  0.0825  0.0825  2.10   \n",
       "\n",
       "            ordering  trotter_error  \n",
       "0  𝑍0·𝑋0⁢𝑋1·𝑍1·𝑌0⁢𝑌1         0.0124  \n",
       "1  𝑍0·𝑌0⁢𝑌1·𝑍1·𝑋0⁢𝑋1         0.0521  \n",
       "2  𝑋0⁢𝑋1·𝑍0·𝑌0⁢𝑌1·𝑍1         0.0111  \n",
       "3  𝑍0·𝑋0⁢𝑋1·𝑍1·𝑌0⁢𝑌1         0.0368  \n",
       "4  𝑍0·𝑋0⁢𝑋1·𝑍1·𝑌0⁢𝑌1         0.0088  "
      ]
     },
     "execution_count": 5,
     "metadata": {},
     "output_type": "execute_result"
    }
   ],
   "source": [
    "coeffs_df = pd.read_csv(\"table_coeffs.csv\")\n",
    "coeffs_df.head()"
   ]
  },
  {
   "cell_type": "code",
   "execution_count": 16,
   "metadata": {},
   "outputs": [],
   "source": [
    "H_eff = construct_H_eff([0.3593, -0.4826, 0.0896, 0.0896])\n",
    "H = construct_hamiltonian([-0.4584, 0.3593, -0.4826, 0.5818, 0.0896, 0.0896])"
   ]
  },
  {
   "cell_type": "code",
   "execution_count": 17,
   "metadata": {},
   "outputs": [
    {
     "name": "stdout",
     "output_type": "stream",
     "text": [
      "Eigenvalores de H: [-1.90096027e+00+0.j -1.79439726e-01+0.j  1.00000000e-04+0.j\n",
      "  2.46700000e-01+0.j]\n",
      "Eigenvalores de H_eff: [-0.86076027+0.j  0.86076027+0.j -0.1233    +0.j  0.1233    +0.j]\n"
     ]
    }
   ],
   "source": [
    "print(\"Eigenvalores de H:\", np.linalg.eigvals(H))\n",
    "print(\"Eigenvalores de H_eff:\", np.linalg.eigvals(H_eff))"
   ]
  },
  {
   "cell_type": "markdown",
   "metadata": {},
   "source": [
    "Verification that the minimum eigenvalue of the 4-qubit Hamiltonian is the same as the 2-qubit Hamiltonian:"
   ]
  },
  {
   "cell_type": "code",
   "execution_count": 31,
   "metadata": {},
   "outputs": [
    {
     "data": {
      "text/plain": [
       "array([-0.5234405,  0.513603 , -0.445593 ,  0.4330455,  0.3486985,\n",
       "        0.3486985])"
      ]
     },
     "execution_count": 31,
     "metadata": {},
     "output_type": "execute_result"
    }
   ],
   "source": [
    "coeff_fs = [\n",
    "    -0.81261, 0.171201, 0.16862325, -0.2227965, 0.171201,\n",
    "    0.12054625, 0.17434925, 0.04532175, 0.04532175, \n",
    "    0.165868, 0.12054625, -0.2227965, \n",
    "    0.04532175, 0.04532175, 0.165868\n",
    "    ]\n",
    "coeff_gs = np.zeros(6)\n",
    "\n",
    "coeff_gs[0] = coeff_fs[0] + coeff_fs[2] + coeff_fs[5]\n",
    "coeff_gs[1] = 2*coeff_fs[1] + coeff_fs[4]\n",
    "coeff_gs[2] = 2*coeff_fs[3]\n",
    "coeff_gs[3] = 2*(coeff_fs[4] + coeff_fs[7])\n",
    "coeff_gs[4] = 2*coeff_fs[6]\n",
    "coeff_gs[5] = 2*coeff_fs[6]\n",
    "coeff_gs"
   ]
  },
  {
   "cell_type": "code",
   "execution_count": 27,
   "metadata": {},
   "outputs": [],
   "source": [
    "coeff_fs = np.random.rand(8)\n",
    "coeff_gs = np.zeros(6)\n",
    "\n",
    "coeff_gs[0] = coeff_fs[0] + coeff_fs[2] + coeff_fs[5]\n",
    "coeff_gs[1] = 2*coeff_fs[1] + coeff_fs[4]\n",
    "coeff_gs[2] = 2*coeff_fs[3]\n",
    "coeff_gs[3] = 2*(coeff_fs[4] + coeff_fs[7])\n",
    "coeff_gs[4] = 2*coeff_fs[6]\n",
    "coeff_gs[5] = 2*coeff_fs[6]"
   ]
  },
  {
   "cell_type": "code",
   "execution_count": 32,
   "metadata": {},
   "outputs": [],
   "source": [
    "H_complete = construct_H_complete(coeff_fs)\n",
    "H_reduced = construct_hamiltonian(coeff_gs)"
   ]
  },
  {
   "cell_type": "code",
   "execution_count": 33,
   "metadata": {},
   "outputs": [
    {
     "name": "stdout",
     "output_type": "stream",
     "text": [
      "Eigenvalues of 2-qubit Hamiltonian: [-2.14241161+0.j  0.22943961+0.j -0.022385  +0.j -0.158405  +0.j]\n",
      "Eigenvalues of 4-qubit Hamiltonian: [-0.656141  -2.46519033e-32j -2.050935  +6.16297582e-33j\n",
      "  0.09579661+0.00000000e+00j -2.00876861+0.00000000e+00j\n",
      " -0.193586  +0.00000000e+00j -0.422131  +0.00000000e+00j\n",
      " -0.422131  +0.00000000e+00j -0.850021  +0.00000000e+00j\n",
      " -1.30628   +0.00000000e+00j -0.415094  +0.00000000e+00j\n",
      " -1.106935  +0.00000000e+00j  0.012796  +0.00000000e+00j\n",
      " -1.106935  +0.00000000e+00j -1.30628   +0.00000000e+00j\n",
      " -0.850021  +0.00000000e+00j -0.415094  +0.00000000e+00j]\n"
     ]
    }
   ],
   "source": [
    "eigvals_H_reduced = np.linalg.eigvals(H_reduced)\n",
    "eigvals_H_complete = np.linalg.eigvals(H_complete)\n",
    "\n",
    "print(\"Eigenvalues of 2-qubit Hamiltonian:\", eigvals_H_reduced)\n",
    "print(\"Eigenvalues of 4-qubit Hamiltonian:\", eigvals_H_complete)"
   ]
  },
  {
   "cell_type": "code",
   "execution_count": 34,
   "metadata": {},
   "outputs": [
    {
     "data": {
      "text/plain": [
       "(np.complex128(-2.1424116056030673+0j),\n",
       " np.complex128(-2.050935+6.162975822039155e-33j))"
      ]
     },
     "execution_count": 34,
     "metadata": {},
     "output_type": "execute_result"
    }
   ],
   "source": [
    "min(eigvals_H_reduced), min(eigvals_H_complete)"
   ]
  },
  {
   "cell_type": "markdown",
   "metadata": {},
   "source": [
    "### Finding eigenvalues of $H$ and $H_{\\text{eff}}$ with Quantum Phase Estimation algorithm"
   ]
  },
  {
   "cell_type": "markdown",
   "metadata": {},
   "source": [
    "### Initial state with sufficient overlap with the ground state\n",
    "\n",
    "It turns out that the Hartree-Fock state is $|01\\rangle$."
   ]
  },
  {
   "cell_type": "markdown",
   "metadata": {},
   "source": [
    "GPU: https://pennylane.ai/install#high-performance-computing-and-gpus"
   ]
  },
  {
   "cell_type": "code",
   "execution_count": 5,
   "metadata": {},
   "outputs": [],
   "source": [
    "num_shots = None\n",
    "dev = qml.device(\"default.qubit\", shots = num_shots) # no shots means analytical calculation\n",
    "#dev = qml.device(\"lightning.gpu\", wires=num_qubits)"
   ]
  },
  {
   "cell_type": "code",
   "execution_count": 34,
   "metadata": {},
   "outputs": [],
   "source": [
    "@qml.qnode(dev)\n",
    "def circuit_qpe(\n",
    "    estimation_wires: list[int],\n",
    "    q_register: list[int],\n",
    "    state_prep: Callable[[list[int]], None],\n",
    "    controlled_unitary: Callable[..., None],\n",
    "    **kargs\n",
    "):\n",
    "    # initial state\n",
    "    state_prep(q_register)\n",
    "\n",
    "    for wire in estimation_wires:\n",
    "        qml.Hadamard(wires=wire)\n",
    "\n",
    "    for i, control in enumerate(reversed(estimation_wires)):\n",
    "        controlled_unitary(control, q_register, 2**i, **kargs)\n",
    "\n",
    "    qml.adjoint(qml.QFT)(wires=estimation_wires)\n",
    "\n",
    "    return qml.probs(wires=estimation_wires)"
   ]
  },
  {
   "cell_type": "code",
   "execution_count": null,
   "metadata": {},
   "outputs": [],
   "source": [
    "def binary_string_to_decimal(binary_string: str) -> float:\n",
    "    # binary_string represent the bits of the decimal number in format 0.i_1i_2...i_n\n",
    "    # where binary_string is i_1i_2...i_n\n",
    "    res = 0\n",
    "    for i, bit in enumerate(binary_string):\n",
    "        res += float(bit)*2**(-i-1)\n",
    "        \n",
    "    return res"
   ]
  },
  {
   "cell_type": "code",
   "execution_count": null,
   "metadata": {},
   "outputs": [],
   "source": [
    "tau = 0.640\n",
    "coeff = [-0.4584, 0.3593, -0.4826, 0.5818, 0.0896, 0.0896]"
   ]
  },
  {
   "cell_type": "code",
   "execution_count": 80,
   "metadata": {},
   "outputs": [
    {
     "name": "stdout",
     "output_type": "stream",
     "text": [
      "Trotter steps: 1\n",
      "1 result (0.00010010001): -0.6951  - probability: 0.0709 - phase: 0.0708\n",
      "2 result (0.00010010000): -0.6903 - probability: 0.0516 - phase: 0.0708\n",
      "\n",
      "\n",
      "Trotter steps: 2\n",
      "1 result (0.00010100110): -0.7958  - probability: 0.1447 - phase: 0.0811\n",
      "2 result (0.00010100010): -0.7766 - probability: 0.1165 - phase: 0.0811\n",
      "\n",
      "\n",
      "Trotter steps: 3\n",
      "1 result (0.00010101101): -0.8293  - probability: 0.0564 - phase: 0.0845\n",
      "2 result (0.00010101100): -0.8245 - probability: 0.0558 - phase: 0.0845\n",
      "\n",
      "\n",
      "Trotter steps: 4\n",
      "1 result (0.00010101010): -0.8149  - probability: 0.3367 - phase: 0.0830\n",
      "2 result (0.00010100110): -0.7958 - probability: 0.1557 - phase: 0.0830\n",
      "\n",
      "\n",
      "Trotter steps: 5\n",
      "1 result (0.00011000000): -0.9204  - probability: 0.2059 - phase: 0.0938\n",
      "2 result (0.00010100000): -0.7670 - probability: 0.1398 - phase: 0.0938\n",
      "\n",
      "\n",
      "Trotter steps: 6\n",
      "1 result (0.00010100110): -0.7958  - probability: 0.1570 - phase: 0.0811\n",
      "2 result (0.00010110110): -0.8725 - probability: 0.1115 - phase: 0.0811\n",
      "\n",
      "\n",
      "Trotter steps: 7\n",
      "1 result (0.00010101011): -0.8197  - probability: 0.1577 - phase: 0.0835\n",
      "2 result (0.00010100101): -0.7910 - probability: 0.1294 - phase: 0.0835\n",
      "\n",
      "\n",
      "Trotter steps: 8\n",
      "1 result (0.00010101000): -0.8053  - probability: 0.1215 - phase: 0.0820\n",
      "2 result (0.00010100111): -0.8005 - probability: 0.0963 - phase: 0.0820\n",
      "\n",
      "\n",
      "Trotter steps: 9\n",
      "1 result (0.00010110100): -0.8629  - probability: 0.2430 - phase: 0.0879\n",
      "2 result (0.00010101100): -0.8245 - probability: 0.1387 - phase: 0.0879\n",
      "\n",
      "\n",
      "Trotter steps: 10\n",
      "1 result (0.00010110000): -0.8437  - probability: 0.1784 - phase: 0.0859\n",
      "2 result (0.00010110100): -0.8629 - probability: 0.1070 - phase: 0.0859\n",
      "\n",
      "\n",
      "Trotter steps: 11\n",
      "1 result (0.00010101111): -0.8389  - probability: 0.0932 - phase: 0.0854\n",
      "2 result (0.00011000001): -0.9252 - probability: 0.0640 - phase: 0.0854\n",
      "\n",
      "\n",
      "Trotter steps: 12\n",
      "1 result (0.00010101100): -0.8245  - probability: 0.2129 - phase: 0.0840\n",
      "2 result (0.00010110100): -0.8629 - probability: 0.1539 - phase: 0.0840\n",
      "\n",
      "\n",
      "Trotter steps: 13\n",
      "1 result (0.00010110010): -0.8533  - probability: 0.4025 - phase: 0.0869\n",
      "2 result (0.00010110110): -0.8725 - probability: 0.1302 - phase: 0.0869\n",
      "\n",
      "\n",
      "Trotter steps: 14\n",
      "1 result (0.00010111000): -0.8820  - probability: 0.1763 - phase: 0.0898\n",
      "2 result (0.00010110100): -0.8629 - probability: 0.1471 - phase: 0.0898\n",
      "\n",
      "\n",
      "Trotter steps: 15\n",
      "1 result (0.00010111000): -0.8820  - probability: 0.1827 - phase: 0.0898\n",
      "2 result (0.00010110111): -0.8772 - probability: 0.1143 - phase: 0.0898\n",
      "\n",
      "\n",
      "Trotter steps: 16\n",
      "1 result (0.00010101111): -0.8389  - probability: 0.1959 - phase: 0.0854\n",
      "2 result (0.00010101011): -0.8197 - probability: 0.1647 - phase: 0.0854\n",
      "\n",
      "\n",
      "Trotter steps: 17\n",
      "1 result (0.00010110000): -0.8437  - probability: 0.3490 - phase: 0.0859\n",
      "2 result (0.00010110010): -0.8533 - probability: 0.1330 - phase: 0.0859\n",
      "\n",
      "\n",
      "Trotter steps: 18\n",
      "1 result (0.00010101110): -0.8341  - probability: 0.3072 - phase: 0.0850\n",
      "2 result (0.00010101111): -0.8389 - probability: 0.2449 - phase: 0.0850\n",
      "\n",
      "\n",
      "Trotter steps: 19\n",
      "1 result (0.00010110100): -0.8629  - probability: 0.2969 - phase: 0.0879\n",
      "2 result (0.00010101100): -0.8245 - probability: 0.1773 - phase: 0.0879\n",
      "\n",
      "\n",
      "Trotter steps: 20\n",
      "1 result (0.00010110011): -0.8581  - probability: 0.4502 - phase: 0.0874\n",
      "2 result (0.00010110001): -0.8485 - probability: 0.1757 - phase: 0.0874\n",
      "\n",
      "\n",
      "Trotter steps: 21\n",
      "1 result (0.00010110001): -0.8485  - probability: 0.1578 - phase: 0.0864\n",
      "2 result (0.00010101111): -0.8389 - probability: 0.1467 - phase: 0.0864\n",
      "\n",
      "\n",
      "Trotter steps: 22\n",
      "1 result (0.00010110110): -0.8725  - probability: 0.2223 - phase: 0.0889\n",
      "2 result (0.00010111010): -0.8916 - probability: 0.1828 - phase: 0.0889\n",
      "\n",
      "\n",
      "Trotter steps: 23\n",
      "1 result (0.00010101101): -0.8293  - probability: 0.1850 - phase: 0.0845\n",
      "2 result (0.00010101011): -0.8197 - probability: 0.1381 - phase: 0.0845\n",
      "\n",
      "\n",
      "Trotter steps: 24\n",
      "1 result (0.00010101101): -0.8293  - probability: 0.1722 - phase: 0.0845\n",
      "2 result (0.00010110011): -0.8581 - probability: 0.1204 - phase: 0.0845\n",
      "\n",
      "\n"
     ]
    }
   ],
   "source": [
    "eigs1 = []\n",
    "eigs2 = []\n",
    "\n",
    "#trotter_steps = 5\n",
    "num_digits = 11\n",
    "\n",
    "for trotter_steps in range(1, 25):\n",
    "    results = circuit_qpe(\n",
    "        estimation_wires=range(num_digits),\n",
    "        q_register = [num_digits, num_digits+1],\n",
    "        state_prep = lambda wires: qml.X(wires[0]),\n",
    "        controlled_unitary = controlledHydrogenUnitary,\n",
    "        tau = tau,\n",
    "        trotter_steps = trotter_steps,\n",
    "        coeff = coeff,\n",
    "    )\n",
    "    \n",
    "    results_ordered = [(f\"0.{x:0{num_digits}b}\", results[x]) for x in range(len(results))]\n",
    "    results_ordered.sort(key=lambda tup: tup[1], reverse=True)\n",
    "    \n",
    "    phase_1 = binary_string_to_decimal(results_ordered[0][0][2:])\n",
    "    phase_2 = binary_string_to_decimal(results_ordered[1][0][2:])\n",
    "    \n",
    "    result_1 = -2*np.pi*phase_1/tau\n",
    "    result_2 = -2*np.pi*phase_2/tau\n",
    "        \n",
    "    print(\"Trotter steps:\", trotter_steps)\n",
    "    print(f\"1 result ({results_ordered[0][0]}): {result_1:.4f} \", f\"- probability: {results_ordered[0][1]:.4f} - phase: {phase_1:.4f}\")\n",
    "    print(f\"2 result ({results_ordered[1][0]}): {result_2:.4f}\", f\"- probability: {results_ordered[1][1]:.4f} - phase: {phase_1:.4f}\")\n",
    "    print(\"\\n\")\n",
    "    \n",
    "    eigs1.append(result_1)\n",
    "    eigs2.append(result_2)"
   ]
  },
  {
   "cell_type": "code",
   "execution_count": 85,
   "metadata": {},
   "outputs": [
    {
     "data": {
      "text/plain": [
       "<matplotlib.lines.Line2D at 0x10e5c5290>"
      ]
     },
     "execution_count": 85,
     "metadata": {},
     "output_type": "execute_result"
    },
    {
     "data": {
      "image/png": "[encoded data removed]",
      "text/plain": [
       "<Figure size 640x480 with 1 Axes>"
      ]
     },
     "metadata": {},
     "output_type": "display_data"
    }
   ],
   "source": [
    "exact_eig = -0.8607602744\n",
    "plt.plot(eigs1, color=\"blue\")\n",
    "plt.plot(eigs2, color=\"orange\")\n",
    "plt.axhline(y=exact_eig, color='r', linestyle='-')"
   ]
  },
  {
   "cell_type": "code",
   "execution_count": 109,
   "metadata": {},
   "outputs": [],
   "source": [
    "results = circuit_qpe(\n",
    "    estimation_wires=range(11),\n",
    "    q_register = [11, 12],\n",
    "    state_prep = lambda wires: qml.X(wires[1]),\n",
    "    controlled_unitary = controlledHydrogenUnitary,\n",
    "    tau = tau,\n",
    "    trotter_steps = trotter_steps,\n",
    "    coeff = coeff,\n",
    ")"
   ]
  },
  {
   "cell_type": "code",
   "execution_count": 56,
   "metadata": {},
   "outputs": [
    {
     "name": "stdout",
     "output_type": "stream",
     "text": [
      "('0.001101', np.float64(0.8751683167958477))\n",
      "0.203125\n"
     ]
    }
   ],
   "source": [
    "num_digits = 6\n",
    "\n",
    "results = circuit_qpe(\n",
    "    estimation_wires=range(num_digits),\n",
    "    q_register = [num_digits],\n",
    "    state_prep = lambda wires: qml.X(wires[0]),\n",
    "    controlled_unitary = lambda control, q_register, k: qml.ControlledPhaseShift(2*k * np.pi / 5, wires=[control]+q_register)\n",
    ")\n",
    "\n",
    "results_ordered = [(f\"0.{x:0{num_digits}b}\", results[x]) for x in range(len(results))]\n",
    "results_ordered.sort(key=lambda tup: tup[1], reverse=True)\n",
    "\n",
    "print(results_ordered[0])\n",
    "print(binary_string_to_decimal(results_ordered[0][0][2:]))"
   ]
  },
  {
   "cell_type": "code",
   "execution_count": 112,
   "metadata": {},
   "outputs": [
    {
     "name": "stdout",
     "output_type": "stream",
     "text": [
      "93\n"
     ]
    }
   ],
   "source": [
    "cumsum = np.cumsum([tup[1] for tup in results_ordered])\n",
    "for i, s in enumerate(cumsum):\n",
    "    if s >= 0.9:\n",
    "        cumsum_i = i\n",
    "        print(i)\n",
    "        break"
   ]
  },
  {
   "cell_type": "code",
   "execution_count": 113,
   "metadata": {},
   "outputs": [],
   "source": [
    "results_ordered = results_ordered[:cumsum_i + 1]\n",
    "results_ordered.sort(key=lambda tup: tup[0])"
   ]
  },
  {
   "cell_type": "code",
   "execution_count": 114,
   "metadata": {},
   "outputs": [
    {
     "data": {
      "image/png": "[encoded data removed]",
      "text/plain": [
       "<Figure size 1500x800 with 1 Axes>"
      ]
     },
     "metadata": {},
     "output_type": "display_data"
    }
   ],
   "source": [
    "plt.figure(figsize=(15, 8))\n",
    "plt.bar([tup[0] for tup in results_ordered], [tup[1] for tup in results_ordered])\n",
    "plt.xlabel(\"phase\")\n",
    "plt.ylabel(\"probability\")\n",
    "plt.xticks(rotation=\"vertical\")\n",
    "plt.subplots_adjust(bottom=0.3)"
   ]
  },
  {
   "cell_type": "code",
   "execution_count": 115,
   "metadata": {},
   "outputs": [
    {
     "data": {
      "text/plain": [
       "np.int64(69)"
      ]
     },
     "execution_count": 115,
     "metadata": {},
     "output_type": "execute_result"
    }
   ],
   "source": [
    "max_i = np.argmax([tup[1] for tup in results_ordered])\n",
    "max_i"
   ]
  },
  {
   "cell_type": "code",
   "execution_count": 116,
   "metadata": {},
   "outputs": [
    {
     "data": {
      "text/plain": [
       "('0.10110100010', np.float64(0.10619373096465003))"
      ]
     },
     "execution_count": 116,
     "metadata": {},
     "output_type": "execute_result"
    }
   ],
   "source": [
    "results_ordered[max_i]"
   ]
  },
  {
   "cell_type": "code",
   "execution_count": 117,
   "metadata": {},
   "outputs": [
    {
     "name": "stdout",
     "output_type": "stream",
     "text": [
      "0.7041015625\n"
     ]
    }
   ],
   "source": [
    "res = 0\n",
    "for i, bit in enumerate(results_ordered[max_i][0][2:]):\n",
    "    res += float(bit)*2**(-i-1)\n",
    "    \n",
    "print(res)"
   ]
  },
  {
   "cell_type": "code",
   "execution_count": 118,
   "metadata": {},
   "outputs": [
    {
     "data": {
      "text/plain": [
       "-1.10015869140625"
      ]
     },
     "execution_count": 118,
     "metadata": {},
     "output_type": "execute_result"
    }
   ],
   "source": [
    "- res/tau"
   ]
  }
 ],
 "metadata": {
  "kernelspec": {
   "display_name": ".venv",
   "language": "python",
   "name": "python3"
  },
  "language_info": {
   "codemirror_mode": {
    "name": "ipython",
    "version": 3
   },
   "file_extension": ".py",
   "mimetype": "text/x-python",
   "name": "python",
   "nbconvert_exporter": "python",
   "pygments_lexer": "ipython3",
   "version": "3.11.11"
  }
 },
 "nbformat": 4,
 "nbformat_minor": 2
}
